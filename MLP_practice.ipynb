{
  "nbformat": 4,
  "nbformat_minor": 0,
  "metadata": {
    "colab": {
      "provenance": [],
      "authorship_tag": "ABX9TyMlx77oameklCFqS0WBRfZk"
    },
    "kernelspec": {
      "name": "python3",
      "display_name": "Python 3"
    },
    "language_info": {
      "name": "python"
    }
  },
  "cells": [
    {
      "cell_type": "code",
      "execution_count": 2,
      "metadata": {
        "colab": {
          "base_uri": "https://localhost:8080/"
        },
        "id": "0QwAgo54QolC",
        "outputId": "fedfcd63-2c2b-487f-ba17-641974ed547d"
      },
      "outputs": [
        {
          "output_type": "stream",
          "name": "stdout",
          "text": [
            "Drive already mounted at /content/drive; to attempt to forcibly remount, call drive.mount(\"/content/drive\", force_remount=True).\n"
          ]
        }
      ],
      "source": [
        "from google.colab import drive\n",
        "drive.mount('/content/drive')"
      ]
    },
    {
      "cell_type": "code",
      "source": [
        "import pandas as pd\n",
        "df = pd.read_csv(\"drive/MyDrive/Data/jena_climate_2009_2016.csv\")"
      ],
      "metadata": {
        "id": "2J-Bw-DCQ1Iu"
      },
      "execution_count": 3,
      "outputs": []
    },
    {
      "cell_type": "code",
      "source": [
        "df.head(5)"
      ],
      "metadata": {
        "colab": {
          "base_uri": "https://localhost:8080/",
          "height": 310
        },
        "id": "mG8wJBuQREUa",
        "outputId": "f0bd9bcb-f022-4396-f7fd-f296017797b2"
      },
      "execution_count": 4,
      "outputs": [
        {
          "output_type": "execute_result",
          "data": {
            "text/plain": [
              "             Date Time  p (mbar)  T (degC)  Tpot (K)  Tdew (degC)  rh (%)  \\\n",
              "0  01.01.2009 00:10:00    996.52     -8.02    265.40        -8.90    93.3   \n",
              "1  01.01.2009 00:20:00    996.57     -8.41    265.01        -9.28    93.4   \n",
              "2  01.01.2009 00:30:00    996.53     -8.51    264.91        -9.31    93.9   \n",
              "3  01.01.2009 00:40:00    996.51     -8.31    265.12        -9.07    94.2   \n",
              "4  01.01.2009 00:50:00    996.51     -8.27    265.15        -9.04    94.1   \n",
              "\n",
              "   VPmax (mbar)  VPact (mbar)  VPdef (mbar)  sh (g/kg)  H2OC (mmol/mol)  \\\n",
              "0          3.33          3.11          0.22       1.94             3.12   \n",
              "1          3.23          3.02          0.21       1.89             3.03   \n",
              "2          3.21          3.01          0.20       1.88             3.02   \n",
              "3          3.26          3.07          0.19       1.92             3.08   \n",
              "4          3.27          3.08          0.19       1.92             3.09   \n",
              "\n",
              "   rho (g/m**3)  wv (m/s)  max. wv (m/s)  wd (deg)  \n",
              "0       1307.75      1.03           1.75     152.3  \n",
              "1       1309.80      0.72           1.50     136.1  \n",
              "2       1310.24      0.19           0.63     171.6  \n",
              "3       1309.19      0.34           0.50     198.0  \n",
              "4       1309.00      0.32           0.63     214.3  "
            ],
            "text/html": [
              "\n",
              "  <div id=\"df-68cdf370-ee82-433e-8e3c-01232e58a61b\" class=\"colab-df-container\">\n",
              "    <div>\n",
              "<style scoped>\n",
              "    .dataframe tbody tr th:only-of-type {\n",
              "        vertical-align: middle;\n",
              "    }\n",
              "\n",
              "    .dataframe tbody tr th {\n",
              "        vertical-align: top;\n",
              "    }\n",
              "\n",
              "    .dataframe thead th {\n",
              "        text-align: right;\n",
              "    }\n",
              "</style>\n",
              "<table border=\"1\" class=\"dataframe\">\n",
              "  <thead>\n",
              "    <tr style=\"text-align: right;\">\n",
              "      <th></th>\n",
              "      <th>Date Time</th>\n",
              "      <th>p (mbar)</th>\n",
              "      <th>T (degC)</th>\n",
              "      <th>Tpot (K)</th>\n",
              "      <th>Tdew (degC)</th>\n",
              "      <th>rh (%)</th>\n",
              "      <th>VPmax (mbar)</th>\n",
              "      <th>VPact (mbar)</th>\n",
              "      <th>VPdef (mbar)</th>\n",
              "      <th>sh (g/kg)</th>\n",
              "      <th>H2OC (mmol/mol)</th>\n",
              "      <th>rho (g/m**3)</th>\n",
              "      <th>wv (m/s)</th>\n",
              "      <th>max. wv (m/s)</th>\n",
              "      <th>wd (deg)</th>\n",
              "    </tr>\n",
              "  </thead>\n",
              "  <tbody>\n",
              "    <tr>\n",
              "      <th>0</th>\n",
              "      <td>01.01.2009 00:10:00</td>\n",
              "      <td>996.52</td>\n",
              "      <td>-8.02</td>\n",
              "      <td>265.40</td>\n",
              "      <td>-8.90</td>\n",
              "      <td>93.3</td>\n",
              "      <td>3.33</td>\n",
              "      <td>3.11</td>\n",
              "      <td>0.22</td>\n",
              "      <td>1.94</td>\n",
              "      <td>3.12</td>\n",
              "      <td>1307.75</td>\n",
              "      <td>1.03</td>\n",
              "      <td>1.75</td>\n",
              "      <td>152.3</td>\n",
              "    </tr>\n",
              "    <tr>\n",
              "      <th>1</th>\n",
              "      <td>01.01.2009 00:20:00</td>\n",
              "      <td>996.57</td>\n",
              "      <td>-8.41</td>\n",
              "      <td>265.01</td>\n",
              "      <td>-9.28</td>\n",
              "      <td>93.4</td>\n",
              "      <td>3.23</td>\n",
              "      <td>3.02</td>\n",
              "      <td>0.21</td>\n",
              "      <td>1.89</td>\n",
              "      <td>3.03</td>\n",
              "      <td>1309.80</td>\n",
              "      <td>0.72</td>\n",
              "      <td>1.50</td>\n",
              "      <td>136.1</td>\n",
              "    </tr>\n",
              "    <tr>\n",
              "      <th>2</th>\n",
              "      <td>01.01.2009 00:30:00</td>\n",
              "      <td>996.53</td>\n",
              "      <td>-8.51</td>\n",
              "      <td>264.91</td>\n",
              "      <td>-9.31</td>\n",
              "      <td>93.9</td>\n",
              "      <td>3.21</td>\n",
              "      <td>3.01</td>\n",
              "      <td>0.20</td>\n",
              "      <td>1.88</td>\n",
              "      <td>3.02</td>\n",
              "      <td>1310.24</td>\n",
              "      <td>0.19</td>\n",
              "      <td>0.63</td>\n",
              "      <td>171.6</td>\n",
              "    </tr>\n",
              "    <tr>\n",
              "      <th>3</th>\n",
              "      <td>01.01.2009 00:40:00</td>\n",
              "      <td>996.51</td>\n",
              "      <td>-8.31</td>\n",
              "      <td>265.12</td>\n",
              "      <td>-9.07</td>\n",
              "      <td>94.2</td>\n",
              "      <td>3.26</td>\n",
              "      <td>3.07</td>\n",
              "      <td>0.19</td>\n",
              "      <td>1.92</td>\n",
              "      <td>3.08</td>\n",
              "      <td>1309.19</td>\n",
              "      <td>0.34</td>\n",
              "      <td>0.50</td>\n",
              "      <td>198.0</td>\n",
              "    </tr>\n",
              "    <tr>\n",
              "      <th>4</th>\n",
              "      <td>01.01.2009 00:50:00</td>\n",
              "      <td>996.51</td>\n",
              "      <td>-8.27</td>\n",
              "      <td>265.15</td>\n",
              "      <td>-9.04</td>\n",
              "      <td>94.1</td>\n",
              "      <td>3.27</td>\n",
              "      <td>3.08</td>\n",
              "      <td>0.19</td>\n",
              "      <td>1.92</td>\n",
              "      <td>3.09</td>\n",
              "      <td>1309.00</td>\n",
              "      <td>0.32</td>\n",
              "      <td>0.63</td>\n",
              "      <td>214.3</td>\n",
              "    </tr>\n",
              "  </tbody>\n",
              "</table>\n",
              "</div>\n",
              "    <div class=\"colab-df-buttons\">\n",
              "\n",
              "  <div class=\"colab-df-container\">\n",
              "    <button class=\"colab-df-convert\" onclick=\"convertToInteractive('df-68cdf370-ee82-433e-8e3c-01232e58a61b')\"\n",
              "            title=\"Convert this dataframe to an interactive table.\"\n",
              "            style=\"display:none;\">\n",
              "\n",
              "  <svg xmlns=\"http://www.w3.org/2000/svg\" height=\"24px\" viewBox=\"0 -960 960 960\">\n",
              "    <path d=\"M120-120v-720h720v720H120Zm60-500h600v-160H180v160Zm220 220h160v-160H400v160Zm0 220h160v-160H400v160ZM180-400h160v-160H180v160Zm440 0h160v-160H620v160ZM180-180h160v-160H180v160Zm440 0h160v-160H620v160Z\"/>\n",
              "  </svg>\n",
              "    </button>\n",
              "\n",
              "  <style>\n",
              "    .colab-df-container {\n",
              "      display:flex;\n",
              "      gap: 12px;\n",
              "    }\n",
              "\n",
              "    .colab-df-convert {\n",
              "      background-color: #E8F0FE;\n",
              "      border: none;\n",
              "      border-radius: 50%;\n",
              "      cursor: pointer;\n",
              "      display: none;\n",
              "      fill: #1967D2;\n",
              "      height: 32px;\n",
              "      padding: 0 0 0 0;\n",
              "      width: 32px;\n",
              "    }\n",
              "\n",
              "    .colab-df-convert:hover {\n",
              "      background-color: #E2EBFA;\n",
              "      box-shadow: 0px 1px 2px rgba(60, 64, 67, 0.3), 0px 1px 3px 1px rgba(60, 64, 67, 0.15);\n",
              "      fill: #174EA6;\n",
              "    }\n",
              "\n",
              "    .colab-df-buttons div {\n",
              "      margin-bottom: 4px;\n",
              "    }\n",
              "\n",
              "    [theme=dark] .colab-df-convert {\n",
              "      background-color: #3B4455;\n",
              "      fill: #D2E3FC;\n",
              "    }\n",
              "\n",
              "    [theme=dark] .colab-df-convert:hover {\n",
              "      background-color: #434B5C;\n",
              "      box-shadow: 0px 1px 3px 1px rgba(0, 0, 0, 0.15);\n",
              "      filter: drop-shadow(0px 1px 2px rgba(0, 0, 0, 0.3));\n",
              "      fill: #FFFFFF;\n",
              "    }\n",
              "  </style>\n",
              "\n",
              "    <script>\n",
              "      const buttonEl =\n",
              "        document.querySelector('#df-68cdf370-ee82-433e-8e3c-01232e58a61b button.colab-df-convert');\n",
              "      buttonEl.style.display =\n",
              "        google.colab.kernel.accessAllowed ? 'block' : 'none';\n",
              "\n",
              "      async function convertToInteractive(key) {\n",
              "        const element = document.querySelector('#df-68cdf370-ee82-433e-8e3c-01232e58a61b');\n",
              "        const dataTable =\n",
              "          await google.colab.kernel.invokeFunction('convertToInteractive',\n",
              "                                                    [key], {});\n",
              "        if (!dataTable) return;\n",
              "\n",
              "        const docLinkHtml = 'Like what you see? Visit the ' +\n",
              "          '<a target=\"_blank\" href=https://colab.research.google.com/notebooks/data_table.ipynb>data table notebook</a>'\n",
              "          + ' to learn more about interactive tables.';\n",
              "        element.innerHTML = '';\n",
              "        dataTable['output_type'] = 'display_data';\n",
              "        await google.colab.output.renderOutput(dataTable, element);\n",
              "        const docLink = document.createElement('div');\n",
              "        docLink.innerHTML = docLinkHtml;\n",
              "        element.appendChild(docLink);\n",
              "      }\n",
              "    </script>\n",
              "  </div>\n",
              "\n",
              "\n",
              "<div id=\"df-6d19f424-c381-4021-b822-c3df713fce0b\">\n",
              "  <button class=\"colab-df-quickchart\" onclick=\"quickchart('df-6d19f424-c381-4021-b822-c3df713fce0b')\"\n",
              "            title=\"Suggest charts\"\n",
              "            style=\"display:none;\">\n",
              "\n",
              "<svg xmlns=\"http://www.w3.org/2000/svg\" height=\"24px\"viewBox=\"0 0 24 24\"\n",
              "     width=\"24px\">\n",
              "    <g>\n",
              "        <path d=\"M19 3H5c-1.1 0-2 .9-2 2v14c0 1.1.9 2 2 2h14c1.1 0 2-.9 2-2V5c0-1.1-.9-2-2-2zM9 17H7v-7h2v7zm4 0h-2V7h2v10zm4 0h-2v-4h2v4z\"/>\n",
              "    </g>\n",
              "</svg>\n",
              "  </button>\n",
              "\n",
              "<style>\n",
              "  .colab-df-quickchart {\n",
              "      --bg-color: #E8F0FE;\n",
              "      --fill-color: #1967D2;\n",
              "      --hover-bg-color: #E2EBFA;\n",
              "      --hover-fill-color: #174EA6;\n",
              "      --disabled-fill-color: #AAA;\n",
              "      --disabled-bg-color: #DDD;\n",
              "  }\n",
              "\n",
              "  [theme=dark] .colab-df-quickchart {\n",
              "      --bg-color: #3B4455;\n",
              "      --fill-color: #D2E3FC;\n",
              "      --hover-bg-color: #434B5C;\n",
              "      --hover-fill-color: #FFFFFF;\n",
              "      --disabled-bg-color: #3B4455;\n",
              "      --disabled-fill-color: #666;\n",
              "  }\n",
              "\n",
              "  .colab-df-quickchart {\n",
              "    background-color: var(--bg-color);\n",
              "    border: none;\n",
              "    border-radius: 50%;\n",
              "    cursor: pointer;\n",
              "    display: none;\n",
              "    fill: var(--fill-color);\n",
              "    height: 32px;\n",
              "    padding: 0;\n",
              "    width: 32px;\n",
              "  }\n",
              "\n",
              "  .colab-df-quickchart:hover {\n",
              "    background-color: var(--hover-bg-color);\n",
              "    box-shadow: 0 1px 2px rgba(60, 64, 67, 0.3), 0 1px 3px 1px rgba(60, 64, 67, 0.15);\n",
              "    fill: var(--button-hover-fill-color);\n",
              "  }\n",
              "\n",
              "  .colab-df-quickchart-complete:disabled,\n",
              "  .colab-df-quickchart-complete:disabled:hover {\n",
              "    background-color: var(--disabled-bg-color);\n",
              "    fill: var(--disabled-fill-color);\n",
              "    box-shadow: none;\n",
              "  }\n",
              "\n",
              "  .colab-df-spinner {\n",
              "    border: 2px solid var(--fill-color);\n",
              "    border-color: transparent;\n",
              "    border-bottom-color: var(--fill-color);\n",
              "    animation:\n",
              "      spin 1s steps(1) infinite;\n",
              "  }\n",
              "\n",
              "  @keyframes spin {\n",
              "    0% {\n",
              "      border-color: transparent;\n",
              "      border-bottom-color: var(--fill-color);\n",
              "      border-left-color: var(--fill-color);\n",
              "    }\n",
              "    20% {\n",
              "      border-color: transparent;\n",
              "      border-left-color: var(--fill-color);\n",
              "      border-top-color: var(--fill-color);\n",
              "    }\n",
              "    30% {\n",
              "      border-color: transparent;\n",
              "      border-left-color: var(--fill-color);\n",
              "      border-top-color: var(--fill-color);\n",
              "      border-right-color: var(--fill-color);\n",
              "    }\n",
              "    40% {\n",
              "      border-color: transparent;\n",
              "      border-right-color: var(--fill-color);\n",
              "      border-top-color: var(--fill-color);\n",
              "    }\n",
              "    60% {\n",
              "      border-color: transparent;\n",
              "      border-right-color: var(--fill-color);\n",
              "    }\n",
              "    80% {\n",
              "      border-color: transparent;\n",
              "      border-right-color: var(--fill-color);\n",
              "      border-bottom-color: var(--fill-color);\n",
              "    }\n",
              "    90% {\n",
              "      border-color: transparent;\n",
              "      border-bottom-color: var(--fill-color);\n",
              "    }\n",
              "  }\n",
              "</style>\n",
              "\n",
              "  <script>\n",
              "    async function quickchart(key) {\n",
              "      const quickchartButtonEl =\n",
              "        document.querySelector('#' + key + ' button');\n",
              "      quickchartButtonEl.disabled = true;  // To prevent multiple clicks.\n",
              "      quickchartButtonEl.classList.add('colab-df-spinner');\n",
              "      try {\n",
              "        const charts = await google.colab.kernel.invokeFunction(\n",
              "            'suggestCharts', [key], {});\n",
              "      } catch (error) {\n",
              "        console.error('Error during call to suggestCharts:', error);\n",
              "      }\n",
              "      quickchartButtonEl.classList.remove('colab-df-spinner');\n",
              "      quickchartButtonEl.classList.add('colab-df-quickchart-complete');\n",
              "    }\n",
              "    (() => {\n",
              "      let quickchartButtonEl =\n",
              "        document.querySelector('#df-6d19f424-c381-4021-b822-c3df713fce0b button');\n",
              "      quickchartButtonEl.style.display =\n",
              "        google.colab.kernel.accessAllowed ? 'block' : 'none';\n",
              "    })();\n",
              "  </script>\n",
              "</div>\n",
              "\n",
              "    </div>\n",
              "  </div>\n"
            ],
            "application/vnd.google.colaboratory.intrinsic+json": {
              "type": "dataframe",
              "variable_name": "df"
            }
          },
          "metadata": {},
          "execution_count": 4
        }
      ]
    },
    {
      "cell_type": "code",
      "source": [
        "df.tail(5)"
      ],
      "metadata": {
        "colab": {
          "base_uri": "https://localhost:8080/",
          "height": 310
        },
        "id": "zk_HY-cPRM5a",
        "outputId": "a726252e-324c-44b5-c7da-b67d896d7539"
      },
      "execution_count": 5,
      "outputs": [
        {
          "output_type": "execute_result",
          "data": {
            "text/plain": [
              "                  Date Time  p (mbar)  T (degC)  Tpot (K)  Tdew (degC)  \\\n",
              "420546  31.12.2016 23:20:00   1000.07     -4.05    269.10        -8.13   \n",
              "420547  31.12.2016 23:30:00    999.93     -3.35    269.81        -8.06   \n",
              "420548  31.12.2016 23:40:00    999.82     -3.16    270.01        -8.21   \n",
              "420549  31.12.2016 23:50:00    999.81     -4.23    268.94        -8.53   \n",
              "420550  01.01.2017 00:00:00    999.82     -4.82    268.36        -8.42   \n",
              "\n",
              "        rh (%)  VPmax (mbar)  VPact (mbar)  VPdef (mbar)  sh (g/kg)  \\\n",
              "420546   73.10          4.52          3.30          1.22       2.06   \n",
              "420547   69.71          4.77          3.32          1.44       2.07   \n",
              "420548   67.91          4.84          3.28          1.55       2.05   \n",
              "420549   71.80          4.46          3.20          1.26       1.99   \n",
              "420550   75.70          4.27          3.23          1.04       2.01   \n",
              "\n",
              "        H2OC (mmol/mol)  rho (g/m**3)  wv (m/s)  max. wv (m/s)  wd (deg)  \n",
              "420546             3.30       1292.98      0.67           1.52     240.0  \n",
              "420547             3.32       1289.44      1.14           1.92     234.3  \n",
              "420548             3.28       1288.39      1.08           2.00     215.2  \n",
              "420549             3.20       1293.56      1.49           2.16     225.8  \n",
              "420550             3.23       1296.38      1.23           1.96     184.9  "
            ],
            "text/html": [
              "\n",
              "  <div id=\"df-0e6309b0-7249-4f14-8219-8ee159f0ae41\" class=\"colab-df-container\">\n",
              "    <div>\n",
              "<style scoped>\n",
              "    .dataframe tbody tr th:only-of-type {\n",
              "        vertical-align: middle;\n",
              "    }\n",
              "\n",
              "    .dataframe tbody tr th {\n",
              "        vertical-align: top;\n",
              "    }\n",
              "\n",
              "    .dataframe thead th {\n",
              "        text-align: right;\n",
              "    }\n",
              "</style>\n",
              "<table border=\"1\" class=\"dataframe\">\n",
              "  <thead>\n",
              "    <tr style=\"text-align: right;\">\n",
              "      <th></th>\n",
              "      <th>Date Time</th>\n",
              "      <th>p (mbar)</th>\n",
              "      <th>T (degC)</th>\n",
              "      <th>Tpot (K)</th>\n",
              "      <th>Tdew (degC)</th>\n",
              "      <th>rh (%)</th>\n",
              "      <th>VPmax (mbar)</th>\n",
              "      <th>VPact (mbar)</th>\n",
              "      <th>VPdef (mbar)</th>\n",
              "      <th>sh (g/kg)</th>\n",
              "      <th>H2OC (mmol/mol)</th>\n",
              "      <th>rho (g/m**3)</th>\n",
              "      <th>wv (m/s)</th>\n",
              "      <th>max. wv (m/s)</th>\n",
              "      <th>wd (deg)</th>\n",
              "    </tr>\n",
              "  </thead>\n",
              "  <tbody>\n",
              "    <tr>\n",
              "      <th>420546</th>\n",
              "      <td>31.12.2016 23:20:00</td>\n",
              "      <td>1000.07</td>\n",
              "      <td>-4.05</td>\n",
              "      <td>269.10</td>\n",
              "      <td>-8.13</td>\n",
              "      <td>73.10</td>\n",
              "      <td>4.52</td>\n",
              "      <td>3.30</td>\n",
              "      <td>1.22</td>\n",
              "      <td>2.06</td>\n",
              "      <td>3.30</td>\n",
              "      <td>1292.98</td>\n",
              "      <td>0.67</td>\n",
              "      <td>1.52</td>\n",
              "      <td>240.0</td>\n",
              "    </tr>\n",
              "    <tr>\n",
              "      <th>420547</th>\n",
              "      <td>31.12.2016 23:30:00</td>\n",
              "      <td>999.93</td>\n",
              "      <td>-3.35</td>\n",
              "      <td>269.81</td>\n",
              "      <td>-8.06</td>\n",
              "      <td>69.71</td>\n",
              "      <td>4.77</td>\n",
              "      <td>3.32</td>\n",
              "      <td>1.44</td>\n",
              "      <td>2.07</td>\n",
              "      <td>3.32</td>\n",
              "      <td>1289.44</td>\n",
              "      <td>1.14</td>\n",
              "      <td>1.92</td>\n",
              "      <td>234.3</td>\n",
              "    </tr>\n",
              "    <tr>\n",
              "      <th>420548</th>\n",
              "      <td>31.12.2016 23:40:00</td>\n",
              "      <td>999.82</td>\n",
              "      <td>-3.16</td>\n",
              "      <td>270.01</td>\n",
              "      <td>-8.21</td>\n",
              "      <td>67.91</td>\n",
              "      <td>4.84</td>\n",
              "      <td>3.28</td>\n",
              "      <td>1.55</td>\n",
              "      <td>2.05</td>\n",
              "      <td>3.28</td>\n",
              "      <td>1288.39</td>\n",
              "      <td>1.08</td>\n",
              "      <td>2.00</td>\n",
              "      <td>215.2</td>\n",
              "    </tr>\n",
              "    <tr>\n",
              "      <th>420549</th>\n",
              "      <td>31.12.2016 23:50:00</td>\n",
              "      <td>999.81</td>\n",
              "      <td>-4.23</td>\n",
              "      <td>268.94</td>\n",
              "      <td>-8.53</td>\n",
              "      <td>71.80</td>\n",
              "      <td>4.46</td>\n",
              "      <td>3.20</td>\n",
              "      <td>1.26</td>\n",
              "      <td>1.99</td>\n",
              "      <td>3.20</td>\n",
              "      <td>1293.56</td>\n",
              "      <td>1.49</td>\n",
              "      <td>2.16</td>\n",
              "      <td>225.8</td>\n",
              "    </tr>\n",
              "    <tr>\n",
              "      <th>420550</th>\n",
              "      <td>01.01.2017 00:00:00</td>\n",
              "      <td>999.82</td>\n",
              "      <td>-4.82</td>\n",
              "      <td>268.36</td>\n",
              "      <td>-8.42</td>\n",
              "      <td>75.70</td>\n",
              "      <td>4.27</td>\n",
              "      <td>3.23</td>\n",
              "      <td>1.04</td>\n",
              "      <td>2.01</td>\n",
              "      <td>3.23</td>\n",
              "      <td>1296.38</td>\n",
              "      <td>1.23</td>\n",
              "      <td>1.96</td>\n",
              "      <td>184.9</td>\n",
              "    </tr>\n",
              "  </tbody>\n",
              "</table>\n",
              "</div>\n",
              "    <div class=\"colab-df-buttons\">\n",
              "\n",
              "  <div class=\"colab-df-container\">\n",
              "    <button class=\"colab-df-convert\" onclick=\"convertToInteractive('df-0e6309b0-7249-4f14-8219-8ee159f0ae41')\"\n",
              "            title=\"Convert this dataframe to an interactive table.\"\n",
              "            style=\"display:none;\">\n",
              "\n",
              "  <svg xmlns=\"http://www.w3.org/2000/svg\" height=\"24px\" viewBox=\"0 -960 960 960\">\n",
              "    <path d=\"M120-120v-720h720v720H120Zm60-500h600v-160H180v160Zm220 220h160v-160H400v160Zm0 220h160v-160H400v160ZM180-400h160v-160H180v160Zm440 0h160v-160H620v160ZM180-180h160v-160H180v160Zm440 0h160v-160H620v160Z\"/>\n",
              "  </svg>\n",
              "    </button>\n",
              "\n",
              "  <style>\n",
              "    .colab-df-container {\n",
              "      display:flex;\n",
              "      gap: 12px;\n",
              "    }\n",
              "\n",
              "    .colab-df-convert {\n",
              "      background-color: #E8F0FE;\n",
              "      border: none;\n",
              "      border-radius: 50%;\n",
              "      cursor: pointer;\n",
              "      display: none;\n",
              "      fill: #1967D2;\n",
              "      height: 32px;\n",
              "      padding: 0 0 0 0;\n",
              "      width: 32px;\n",
              "    }\n",
              "\n",
              "    .colab-df-convert:hover {\n",
              "      background-color: #E2EBFA;\n",
              "      box-shadow: 0px 1px 2px rgba(60, 64, 67, 0.3), 0px 1px 3px 1px rgba(60, 64, 67, 0.15);\n",
              "      fill: #174EA6;\n",
              "    }\n",
              "\n",
              "    .colab-df-buttons div {\n",
              "      margin-bottom: 4px;\n",
              "    }\n",
              "\n",
              "    [theme=dark] .colab-df-convert {\n",
              "      background-color: #3B4455;\n",
              "      fill: #D2E3FC;\n",
              "    }\n",
              "\n",
              "    [theme=dark] .colab-df-convert:hover {\n",
              "      background-color: #434B5C;\n",
              "      box-shadow: 0px 1px 3px 1px rgba(0, 0, 0, 0.15);\n",
              "      filter: drop-shadow(0px 1px 2px rgba(0, 0, 0, 0.3));\n",
              "      fill: #FFFFFF;\n",
              "    }\n",
              "  </style>\n",
              "\n",
              "    <script>\n",
              "      const buttonEl =\n",
              "        document.querySelector('#df-0e6309b0-7249-4f14-8219-8ee159f0ae41 button.colab-df-convert');\n",
              "      buttonEl.style.display =\n",
              "        google.colab.kernel.accessAllowed ? 'block' : 'none';\n",
              "\n",
              "      async function convertToInteractive(key) {\n",
              "        const element = document.querySelector('#df-0e6309b0-7249-4f14-8219-8ee159f0ae41');\n",
              "        const dataTable =\n",
              "          await google.colab.kernel.invokeFunction('convertToInteractive',\n",
              "                                                    [key], {});\n",
              "        if (!dataTable) return;\n",
              "\n",
              "        const docLinkHtml = 'Like what you see? Visit the ' +\n",
              "          '<a target=\"_blank\" href=https://colab.research.google.com/notebooks/data_table.ipynb>data table notebook</a>'\n",
              "          + ' to learn more about interactive tables.';\n",
              "        element.innerHTML = '';\n",
              "        dataTable['output_type'] = 'display_data';\n",
              "        await google.colab.output.renderOutput(dataTable, element);\n",
              "        const docLink = document.createElement('div');\n",
              "        docLink.innerHTML = docLinkHtml;\n",
              "        element.appendChild(docLink);\n",
              "      }\n",
              "    </script>\n",
              "  </div>\n",
              "\n",
              "\n",
              "<div id=\"df-2102039e-4301-4bdd-8f50-b5b3788da783\">\n",
              "  <button class=\"colab-df-quickchart\" onclick=\"quickchart('df-2102039e-4301-4bdd-8f50-b5b3788da783')\"\n",
              "            title=\"Suggest charts\"\n",
              "            style=\"display:none;\">\n",
              "\n",
              "<svg xmlns=\"http://www.w3.org/2000/svg\" height=\"24px\"viewBox=\"0 0 24 24\"\n",
              "     width=\"24px\">\n",
              "    <g>\n",
              "        <path d=\"M19 3H5c-1.1 0-2 .9-2 2v14c0 1.1.9 2 2 2h14c1.1 0 2-.9 2-2V5c0-1.1-.9-2-2-2zM9 17H7v-7h2v7zm4 0h-2V7h2v10zm4 0h-2v-4h2v4z\"/>\n",
              "    </g>\n",
              "</svg>\n",
              "  </button>\n",
              "\n",
              "<style>\n",
              "  .colab-df-quickchart {\n",
              "      --bg-color: #E8F0FE;\n",
              "      --fill-color: #1967D2;\n",
              "      --hover-bg-color: #E2EBFA;\n",
              "      --hover-fill-color: #174EA6;\n",
              "      --disabled-fill-color: #AAA;\n",
              "      --disabled-bg-color: #DDD;\n",
              "  }\n",
              "\n",
              "  [theme=dark] .colab-df-quickchart {\n",
              "      --bg-color: #3B4455;\n",
              "      --fill-color: #D2E3FC;\n",
              "      --hover-bg-color: #434B5C;\n",
              "      --hover-fill-color: #FFFFFF;\n",
              "      --disabled-bg-color: #3B4455;\n",
              "      --disabled-fill-color: #666;\n",
              "  }\n",
              "\n",
              "  .colab-df-quickchart {\n",
              "    background-color: var(--bg-color);\n",
              "    border: none;\n",
              "    border-radius: 50%;\n",
              "    cursor: pointer;\n",
              "    display: none;\n",
              "    fill: var(--fill-color);\n",
              "    height: 32px;\n",
              "    padding: 0;\n",
              "    width: 32px;\n",
              "  }\n",
              "\n",
              "  .colab-df-quickchart:hover {\n",
              "    background-color: var(--hover-bg-color);\n",
              "    box-shadow: 0 1px 2px rgba(60, 64, 67, 0.3), 0 1px 3px 1px rgba(60, 64, 67, 0.15);\n",
              "    fill: var(--button-hover-fill-color);\n",
              "  }\n",
              "\n",
              "  .colab-df-quickchart-complete:disabled,\n",
              "  .colab-df-quickchart-complete:disabled:hover {\n",
              "    background-color: var(--disabled-bg-color);\n",
              "    fill: var(--disabled-fill-color);\n",
              "    box-shadow: none;\n",
              "  }\n",
              "\n",
              "  .colab-df-spinner {\n",
              "    border: 2px solid var(--fill-color);\n",
              "    border-color: transparent;\n",
              "    border-bottom-color: var(--fill-color);\n",
              "    animation:\n",
              "      spin 1s steps(1) infinite;\n",
              "  }\n",
              "\n",
              "  @keyframes spin {\n",
              "    0% {\n",
              "      border-color: transparent;\n",
              "      border-bottom-color: var(--fill-color);\n",
              "      border-left-color: var(--fill-color);\n",
              "    }\n",
              "    20% {\n",
              "      border-color: transparent;\n",
              "      border-left-color: var(--fill-color);\n",
              "      border-top-color: var(--fill-color);\n",
              "    }\n",
              "    30% {\n",
              "      border-color: transparent;\n",
              "      border-left-color: var(--fill-color);\n",
              "      border-top-color: var(--fill-color);\n",
              "      border-right-color: var(--fill-color);\n",
              "    }\n",
              "    40% {\n",
              "      border-color: transparent;\n",
              "      border-right-color: var(--fill-color);\n",
              "      border-top-color: var(--fill-color);\n",
              "    }\n",
              "    60% {\n",
              "      border-color: transparent;\n",
              "      border-right-color: var(--fill-color);\n",
              "    }\n",
              "    80% {\n",
              "      border-color: transparent;\n",
              "      border-right-color: var(--fill-color);\n",
              "      border-bottom-color: var(--fill-color);\n",
              "    }\n",
              "    90% {\n",
              "      border-color: transparent;\n",
              "      border-bottom-color: var(--fill-color);\n",
              "    }\n",
              "  }\n",
              "</style>\n",
              "\n",
              "  <script>\n",
              "    async function quickchart(key) {\n",
              "      const quickchartButtonEl =\n",
              "        document.querySelector('#' + key + ' button');\n",
              "      quickchartButtonEl.disabled = true;  // To prevent multiple clicks.\n",
              "      quickchartButtonEl.classList.add('colab-df-spinner');\n",
              "      try {\n",
              "        const charts = await google.colab.kernel.invokeFunction(\n",
              "            'suggestCharts', [key], {});\n",
              "      } catch (error) {\n",
              "        console.error('Error during call to suggestCharts:', error);\n",
              "      }\n",
              "      quickchartButtonEl.classList.remove('colab-df-spinner');\n",
              "      quickchartButtonEl.classList.add('colab-df-quickchart-complete');\n",
              "    }\n",
              "    (() => {\n",
              "      let quickchartButtonEl =\n",
              "        document.querySelector('#df-2102039e-4301-4bdd-8f50-b5b3788da783 button');\n",
              "      quickchartButtonEl.style.display =\n",
              "        google.colab.kernel.accessAllowed ? 'block' : 'none';\n",
              "    })();\n",
              "  </script>\n",
              "</div>\n",
              "\n",
              "    </div>\n",
              "  </div>\n"
            ],
            "application/vnd.google.colaboratory.intrinsic+json": {
              "type": "dataframe",
              "repr_error": "0"
            }
          },
          "metadata": {},
          "execution_count": 5
        }
      ]
    },
    {
      "cell_type": "code",
      "source": [
        "features_selected = ['p (mbar)','T (degC)','rho (g/m**3)']\n",
        "features = df[features_selected]\n",
        "features.head()"
      ],
      "metadata": {
        "colab": {
          "base_uri": "https://localhost:8080/",
          "height": 206
        },
        "id": "PzucMtupRPgM",
        "outputId": "ef313e78-77fb-4b53-99f0-7cdddd3627ed"
      },
      "execution_count": 6,
      "outputs": [
        {
          "output_type": "execute_result",
          "data": {
            "text/plain": [
              "   p (mbar)  T (degC)  rho (g/m**3)\n",
              "0    996.52     -8.02       1307.75\n",
              "1    996.57     -8.41       1309.80\n",
              "2    996.53     -8.51       1310.24\n",
              "3    996.51     -8.31       1309.19\n",
              "4    996.51     -8.27       1309.00"
            ],
            "text/html": [
              "\n",
              "  <div id=\"df-44e54cf8-5e45-40da-af62-f13e64d15708\" class=\"colab-df-container\">\n",
              "    <div>\n",
              "<style scoped>\n",
              "    .dataframe tbody tr th:only-of-type {\n",
              "        vertical-align: middle;\n",
              "    }\n",
              "\n",
              "    .dataframe tbody tr th {\n",
              "        vertical-align: top;\n",
              "    }\n",
              "\n",
              "    .dataframe thead th {\n",
              "        text-align: right;\n",
              "    }\n",
              "</style>\n",
              "<table border=\"1\" class=\"dataframe\">\n",
              "  <thead>\n",
              "    <tr style=\"text-align: right;\">\n",
              "      <th></th>\n",
              "      <th>p (mbar)</th>\n",
              "      <th>T (degC)</th>\n",
              "      <th>rho (g/m**3)</th>\n",
              "    </tr>\n",
              "  </thead>\n",
              "  <tbody>\n",
              "    <tr>\n",
              "      <th>0</th>\n",
              "      <td>996.52</td>\n",
              "      <td>-8.02</td>\n",
              "      <td>1307.75</td>\n",
              "    </tr>\n",
              "    <tr>\n",
              "      <th>1</th>\n",
              "      <td>996.57</td>\n",
              "      <td>-8.41</td>\n",
              "      <td>1309.80</td>\n",
              "    </tr>\n",
              "    <tr>\n",
              "      <th>2</th>\n",
              "      <td>996.53</td>\n",
              "      <td>-8.51</td>\n",
              "      <td>1310.24</td>\n",
              "    </tr>\n",
              "    <tr>\n",
              "      <th>3</th>\n",
              "      <td>996.51</td>\n",
              "      <td>-8.31</td>\n",
              "      <td>1309.19</td>\n",
              "    </tr>\n",
              "    <tr>\n",
              "      <th>4</th>\n",
              "      <td>996.51</td>\n",
              "      <td>-8.27</td>\n",
              "      <td>1309.00</td>\n",
              "    </tr>\n",
              "  </tbody>\n",
              "</table>\n",
              "</div>\n",
              "    <div class=\"colab-df-buttons\">\n",
              "\n",
              "  <div class=\"colab-df-container\">\n",
              "    <button class=\"colab-df-convert\" onclick=\"convertToInteractive('df-44e54cf8-5e45-40da-af62-f13e64d15708')\"\n",
              "            title=\"Convert this dataframe to an interactive table.\"\n",
              "            style=\"display:none;\">\n",
              "\n",
              "  <svg xmlns=\"http://www.w3.org/2000/svg\" height=\"24px\" viewBox=\"0 -960 960 960\">\n",
              "    <path d=\"M120-120v-720h720v720H120Zm60-500h600v-160H180v160Zm220 220h160v-160H400v160Zm0 220h160v-160H400v160ZM180-400h160v-160H180v160Zm440 0h160v-160H620v160ZM180-180h160v-160H180v160Zm440 0h160v-160H620v160Z\"/>\n",
              "  </svg>\n",
              "    </button>\n",
              "\n",
              "  <style>\n",
              "    .colab-df-container {\n",
              "      display:flex;\n",
              "      gap: 12px;\n",
              "    }\n",
              "\n",
              "    .colab-df-convert {\n",
              "      background-color: #E8F0FE;\n",
              "      border: none;\n",
              "      border-radius: 50%;\n",
              "      cursor: pointer;\n",
              "      display: none;\n",
              "      fill: #1967D2;\n",
              "      height: 32px;\n",
              "      padding: 0 0 0 0;\n",
              "      width: 32px;\n",
              "    }\n",
              "\n",
              "    .colab-df-convert:hover {\n",
              "      background-color: #E2EBFA;\n",
              "      box-shadow: 0px 1px 2px rgba(60, 64, 67, 0.3), 0px 1px 3px 1px rgba(60, 64, 67, 0.15);\n",
              "      fill: #174EA6;\n",
              "    }\n",
              "\n",
              "    .colab-df-buttons div {\n",
              "      margin-bottom: 4px;\n",
              "    }\n",
              "\n",
              "    [theme=dark] .colab-df-convert {\n",
              "      background-color: #3B4455;\n",
              "      fill: #D2E3FC;\n",
              "    }\n",
              "\n",
              "    [theme=dark] .colab-df-convert:hover {\n",
              "      background-color: #434B5C;\n",
              "      box-shadow: 0px 1px 3px 1px rgba(0, 0, 0, 0.15);\n",
              "      filter: drop-shadow(0px 1px 2px rgba(0, 0, 0, 0.3));\n",
              "      fill: #FFFFFF;\n",
              "    }\n",
              "  </style>\n",
              "\n",
              "    <script>\n",
              "      const buttonEl =\n",
              "        document.querySelector('#df-44e54cf8-5e45-40da-af62-f13e64d15708 button.colab-df-convert');\n",
              "      buttonEl.style.display =\n",
              "        google.colab.kernel.accessAllowed ? 'block' : 'none';\n",
              "\n",
              "      async function convertToInteractive(key) {\n",
              "        const element = document.querySelector('#df-44e54cf8-5e45-40da-af62-f13e64d15708');\n",
              "        const dataTable =\n",
              "          await google.colab.kernel.invokeFunction('convertToInteractive',\n",
              "                                                    [key], {});\n",
              "        if (!dataTable) return;\n",
              "\n",
              "        const docLinkHtml = 'Like what you see? Visit the ' +\n",
              "          '<a target=\"_blank\" href=https://colab.research.google.com/notebooks/data_table.ipynb>data table notebook</a>'\n",
              "          + ' to learn more about interactive tables.';\n",
              "        element.innerHTML = '';\n",
              "        dataTable['output_type'] = 'display_data';\n",
              "        await google.colab.output.renderOutput(dataTable, element);\n",
              "        const docLink = document.createElement('div');\n",
              "        docLink.innerHTML = docLinkHtml;\n",
              "        element.appendChild(docLink);\n",
              "      }\n",
              "    </script>\n",
              "  </div>\n",
              "\n",
              "\n",
              "<div id=\"df-26fae52a-0bf7-412e-b006-a9d6962ffbb6\">\n",
              "  <button class=\"colab-df-quickchart\" onclick=\"quickchart('df-26fae52a-0bf7-412e-b006-a9d6962ffbb6')\"\n",
              "            title=\"Suggest charts\"\n",
              "            style=\"display:none;\">\n",
              "\n",
              "<svg xmlns=\"http://www.w3.org/2000/svg\" height=\"24px\"viewBox=\"0 0 24 24\"\n",
              "     width=\"24px\">\n",
              "    <g>\n",
              "        <path d=\"M19 3H5c-1.1 0-2 .9-2 2v14c0 1.1.9 2 2 2h14c1.1 0 2-.9 2-2V5c0-1.1-.9-2-2-2zM9 17H7v-7h2v7zm4 0h-2V7h2v10zm4 0h-2v-4h2v4z\"/>\n",
              "    </g>\n",
              "</svg>\n",
              "  </button>\n",
              "\n",
              "<style>\n",
              "  .colab-df-quickchart {\n",
              "      --bg-color: #E8F0FE;\n",
              "      --fill-color: #1967D2;\n",
              "      --hover-bg-color: #E2EBFA;\n",
              "      --hover-fill-color: #174EA6;\n",
              "      --disabled-fill-color: #AAA;\n",
              "      --disabled-bg-color: #DDD;\n",
              "  }\n",
              "\n",
              "  [theme=dark] .colab-df-quickchart {\n",
              "      --bg-color: #3B4455;\n",
              "      --fill-color: #D2E3FC;\n",
              "      --hover-bg-color: #434B5C;\n",
              "      --hover-fill-color: #FFFFFF;\n",
              "      --disabled-bg-color: #3B4455;\n",
              "      --disabled-fill-color: #666;\n",
              "  }\n",
              "\n",
              "  .colab-df-quickchart {\n",
              "    background-color: var(--bg-color);\n",
              "    border: none;\n",
              "    border-radius: 50%;\n",
              "    cursor: pointer;\n",
              "    display: none;\n",
              "    fill: var(--fill-color);\n",
              "    height: 32px;\n",
              "    padding: 0;\n",
              "    width: 32px;\n",
              "  }\n",
              "\n",
              "  .colab-df-quickchart:hover {\n",
              "    background-color: var(--hover-bg-color);\n",
              "    box-shadow: 0 1px 2px rgba(60, 64, 67, 0.3), 0 1px 3px 1px rgba(60, 64, 67, 0.15);\n",
              "    fill: var(--button-hover-fill-color);\n",
              "  }\n",
              "\n",
              "  .colab-df-quickchart-complete:disabled,\n",
              "  .colab-df-quickchart-complete:disabled:hover {\n",
              "    background-color: var(--disabled-bg-color);\n",
              "    fill: var(--disabled-fill-color);\n",
              "    box-shadow: none;\n",
              "  }\n",
              "\n",
              "  .colab-df-spinner {\n",
              "    border: 2px solid var(--fill-color);\n",
              "    border-color: transparent;\n",
              "    border-bottom-color: var(--fill-color);\n",
              "    animation:\n",
              "      spin 1s steps(1) infinite;\n",
              "  }\n",
              "\n",
              "  @keyframes spin {\n",
              "    0% {\n",
              "      border-color: transparent;\n",
              "      border-bottom-color: var(--fill-color);\n",
              "      border-left-color: var(--fill-color);\n",
              "    }\n",
              "    20% {\n",
              "      border-color: transparent;\n",
              "      border-left-color: var(--fill-color);\n",
              "      border-top-color: var(--fill-color);\n",
              "    }\n",
              "    30% {\n",
              "      border-color: transparent;\n",
              "      border-left-color: var(--fill-color);\n",
              "      border-top-color: var(--fill-color);\n",
              "      border-right-color: var(--fill-color);\n",
              "    }\n",
              "    40% {\n",
              "      border-color: transparent;\n",
              "      border-right-color: var(--fill-color);\n",
              "      border-top-color: var(--fill-color);\n",
              "    }\n",
              "    60% {\n",
              "      border-color: transparent;\n",
              "      border-right-color: var(--fill-color);\n",
              "    }\n",
              "    80% {\n",
              "      border-color: transparent;\n",
              "      border-right-color: var(--fill-color);\n",
              "      border-bottom-color: var(--fill-color);\n",
              "    }\n",
              "    90% {\n",
              "      border-color: transparent;\n",
              "      border-bottom-color: var(--fill-color);\n",
              "    }\n",
              "  }\n",
              "</style>\n",
              "\n",
              "  <script>\n",
              "    async function quickchart(key) {\n",
              "      const quickchartButtonEl =\n",
              "        document.querySelector('#' + key + ' button');\n",
              "      quickchartButtonEl.disabled = true;  // To prevent multiple clicks.\n",
              "      quickchartButtonEl.classList.add('colab-df-spinner');\n",
              "      try {\n",
              "        const charts = await google.colab.kernel.invokeFunction(\n",
              "            'suggestCharts', [key], {});\n",
              "      } catch (error) {\n",
              "        console.error('Error during call to suggestCharts:', error);\n",
              "      }\n",
              "      quickchartButtonEl.classList.remove('colab-df-spinner');\n",
              "      quickchartButtonEl.classList.add('colab-df-quickchart-complete');\n",
              "    }\n",
              "    (() => {\n",
              "      let quickchartButtonEl =\n",
              "        document.querySelector('#df-26fae52a-0bf7-412e-b006-a9d6962ffbb6 button');\n",
              "      quickchartButtonEl.style.display =\n",
              "        google.colab.kernel.accessAllowed ? 'block' : 'none';\n",
              "    })();\n",
              "  </script>\n",
              "</div>\n",
              "\n",
              "    </div>\n",
              "  </div>\n"
            ],
            "application/vnd.google.colaboratory.intrinsic+json": {
              "type": "dataframe",
              "variable_name": "features"
            }
          },
          "metadata": {},
          "execution_count": 6
        }
      ]
    },
    {
      "cell_type": "code",
      "source": [
        "# 항목명을 제외한 데이터만 추출\n",
        "dataset = features.values\n",
        "# 학습데이터 크기 만큼 추출\n",
        "data_mean = dataset.mean(axis=0)\n",
        "data_std = dataset.std(axis=0)\n",
        "\n",
        "# 정규화\n",
        "dataset = (dataset-data_mean)-(data_std)\n",
        "print(dataset)"
      ],
      "metadata": {
        "colab": {
          "base_uri": "https://localhost:8080/"
        },
        "id": "izD6gyLWRdQr",
        "outputId": "783aa759-db79-4b05-8370-9c17dd35bd62"
      },
      "execution_count": 7,
      "outputs": [
        {
          "output_type": "stream",
          "name": "stdout",
          "text": [
            "[[ -1.05124686 -25.89350255  51.71209135]\n",
            " [ -1.00124686 -26.28350255  53.76209135]\n",
            " [ -1.04124686 -26.38350255  54.20209135]\n",
            " ...\n",
            " [  2.24875314 -21.03350255  32.35209135]\n",
            " [  2.23875314 -22.10350255  37.52209135]\n",
            " [  2.24875314 -22.69350255  40.34209135]]\n"
          ]
        }
      ]
    },
    {
      "cell_type": "code",
      "source": [
        "#numpy를 이용한 행렬 연산 예\n",
        "import numpy as np\n",
        "mat1 = np.ones((3,3))\n",
        "mat1\n"
      ],
      "metadata": {
        "colab": {
          "base_uri": "https://localhost:8080/"
        },
        "id": "d11dpgPfR2sL",
        "outputId": "2e6b2df7-7bf1-4c1f-d69c-6017aa3d0e38"
      },
      "execution_count": 8,
      "outputs": [
        {
          "output_type": "execute_result",
          "data": {
            "text/plain": [
              "array([[1., 1., 1.],\n",
              "       [1., 1., 1.],\n",
              "       [1., 1., 1.]])"
            ]
          },
          "metadata": {},
          "execution_count": 8
        }
      ]
    },
    {
      "cell_type": "code",
      "source": [
        "# 행렬과 행렬 연산 예제를 위한 요소값이 다른 행렬 생성\n",
        "cnt = 1\n",
        "mat2 = np.zeros((3,3))\n",
        "for i in range(3):\n",
        "    for j in range(3):\n",
        "        mat2[i,j] = mat1[i,j]*cnt\n",
        "        cnt = cnt +1\n",
        "mat2"
      ],
      "metadata": {
        "colab": {
          "base_uri": "https://localhost:8080/"
        },
        "id": "i1j7VhppSLOd",
        "outputId": "612566d3-b630-4143-d4e8-8260cbe4f828"
      },
      "execution_count": 9,
      "outputs": [
        {
          "output_type": "execute_result",
          "data": {
            "text/plain": [
              "array([[1., 2., 3.],\n",
              "       [4., 5., 6.],\n",
              "       [7., 8., 9.]])"
            ]
          },
          "metadata": {},
          "execution_count": 9
        }
      ]
    },
    {
      "cell_type": "code",
      "source": [
        "mat3 = (mat1+mat2)*mat2 -mat1*mat2\n",
        "mat3"
      ],
      "metadata": {
        "colab": {
          "base_uri": "https://localhost:8080/"
        },
        "id": "izr3RnJOSud8",
        "outputId": "156e1fd0-07d8-488c-8387-695dde8e3776"
      },
      "execution_count": 10,
      "outputs": [
        {
          "output_type": "execute_result",
          "data": {
            "text/plain": [
              "array([[ 1.,  4.,  9.],\n",
              "       [16., 25., 36.],\n",
              "       [49., 64., 81.]])"
            ]
          },
          "metadata": {},
          "execution_count": 10
        }
      ]
    },
    {
      "cell_type": "code",
      "source": [
        "mat4 = np.dot(mat2,mat3)\n",
        "mat4"
      ],
      "metadata": {
        "colab": {
          "base_uri": "https://localhost:8080/"
        },
        "id": "_LSDulKVURrO",
        "outputId": "b120d8d7-59a0-4b46-a7a5-8ddaf1d23916"
      },
      "execution_count": 11,
      "outputs": [
        {
          "output_type": "execute_result",
          "data": {
            "text/plain": [
              "array([[ 180.,  246.,  324.],\n",
              "       [ 378.,  525.,  702.],\n",
              "       [ 576.,  804., 1080.]])"
            ]
          },
          "metadata": {},
          "execution_count": 11
        }
      ]
    },
    {
      "cell_type": "code",
      "source": [
        "mat5 = np.matmul(mat2,mat3)\n",
        "mat5"
      ],
      "metadata": {
        "colab": {
          "base_uri": "https://localhost:8080/"
        },
        "id": "wjsQoBWUU7fU",
        "outputId": "8d75d1d9-665b-4f9c-afea-121719de119c"
      },
      "execution_count": 12,
      "outputs": [
        {
          "output_type": "execute_result",
          "data": {
            "text/plain": [
              "array([[ 180.,  246.,  324.],\n",
              "       [ 378.,  525.,  702.],\n",
              "       [ 576.,  804., 1080.]])"
            ]
          },
          "metadata": {},
          "execution_count": 12
        }
      ]
    },
    {
      "cell_type": "code",
      "source": [
        "# 행렬 x 벡터 연산 예제를 위한 벡터 생성\n",
        "vec = np.array([1,2,3])\n",
        "print(vec)\n",
        "# 행렬 x 벡터 연산 numpy.dot과 numpy.matmul 비교\n",
        "mat6 = np.dot(mat2,vec)\n",
        "print(mat6)\n",
        "\n",
        "mat7 = np.matmul(mat2,vec)\n",
        "print(mat7)"
      ],
      "metadata": {
        "colab": {
          "base_uri": "https://localhost:8080/"
        },
        "id": "FCGN0ZqzU_w9",
        "outputId": "e2081ea6-414c-4c29-f308-519e1032c6bb"
      },
      "execution_count": 13,
      "outputs": [
        {
          "output_type": "stream",
          "name": "stdout",
          "text": [
            "[1 2 3]\n",
            "[14. 32. 50.]\n",
            "[14. 32. 50.]\n"
          ]
        }
      ]
    },
    {
      "cell_type": "code",
      "source": [
        "# TensorFlow를 이용한 텐서 연산 예시\n",
        "import tensorflow as tf\n",
        "mat1 = tf.Variable(tf.ones([3,3],tf.float32))\n",
        "mat1"
      ],
      "metadata": {
        "colab": {
          "base_uri": "https://localhost:8080/"
        },
        "id": "B_YIPW5VVRVF",
        "outputId": "60dabd4c-243a-41e5-b97d-8fd3acdc28ba"
      },
      "execution_count": 14,
      "outputs": [
        {
          "output_type": "execute_result",
          "data": {
            "text/plain": [
              "<tf.Variable 'Variable:0' shape=(3, 3) dtype=float32, numpy=\n",
              "array([[1., 1., 1.],\n",
              "       [1., 1., 1.],\n",
              "       [1., 1., 1.]], dtype=float32)>"
            ]
          },
          "metadata": {},
          "execution_count": 14
        }
      ]
    },
    {
      "cell_type": "code",
      "source": [
        "# 행렬과 행렬 연산 예제를 위한 요소값이 다른 행렬 생성\n",
        "cnt = 1\n",
        "mat2 = tf.Variable(tf.zeros(3,3),tf.float32)\n",
        "for i in range(3):\n",
        "    for j in range(3):\n",
        "        mat2[i,j] = mat1[i,j]*cnt\n",
        "        cnt = cnt + 1\n",
        "mat2"
      ],
      "metadata": {
        "colab": {
          "base_uri": "https://localhost:8080/",
          "height": 227
        },
        "id": "ts15EGQJYYxI",
        "outputId": "fd754146-b06f-40f1-adef-0a10c99e044c"
      },
      "execution_count": 15,
      "outputs": [
        {
          "output_type": "error",
          "ename": "TypeError",
          "evalue": "'ResourceVariable' object does not support item assignment",
          "traceback": [
            "\u001b[0;31m---------------------------------------------------------------------------\u001b[0m",
            "\u001b[0;31mTypeError\u001b[0m                                 Traceback (most recent call last)",
            "\u001b[0;32m<ipython-input-15-19c0a442302e>\u001b[0m in \u001b[0;36m<cell line: 4>\u001b[0;34m()\u001b[0m\n\u001b[1;32m      4\u001b[0m \u001b[0;32mfor\u001b[0m \u001b[0mi\u001b[0m \u001b[0;32min\u001b[0m \u001b[0mrange\u001b[0m\u001b[0;34m(\u001b[0m\u001b[0;36m3\u001b[0m\u001b[0;34m)\u001b[0m\u001b[0;34m:\u001b[0m\u001b[0;34m\u001b[0m\u001b[0;34m\u001b[0m\u001b[0m\n\u001b[1;32m      5\u001b[0m     \u001b[0;32mfor\u001b[0m \u001b[0mj\u001b[0m \u001b[0;32min\u001b[0m \u001b[0mrange\u001b[0m\u001b[0;34m(\u001b[0m\u001b[0;36m3\u001b[0m\u001b[0;34m)\u001b[0m\u001b[0;34m:\u001b[0m\u001b[0;34m\u001b[0m\u001b[0;34m\u001b[0m\u001b[0m\n\u001b[0;32m----> 6\u001b[0;31m         \u001b[0mmat2\u001b[0m\u001b[0;34m[\u001b[0m\u001b[0mi\u001b[0m\u001b[0;34m,\u001b[0m\u001b[0mj\u001b[0m\u001b[0;34m]\u001b[0m \u001b[0;34m=\u001b[0m \u001b[0mmat1\u001b[0m\u001b[0;34m[\u001b[0m\u001b[0mi\u001b[0m\u001b[0;34m,\u001b[0m\u001b[0mj\u001b[0m\u001b[0;34m]\u001b[0m\u001b[0;34m*\u001b[0m\u001b[0mcnt\u001b[0m\u001b[0;34m\u001b[0m\u001b[0;34m\u001b[0m\u001b[0m\n\u001b[0m\u001b[1;32m      7\u001b[0m         \u001b[0mcnt\u001b[0m \u001b[0;34m=\u001b[0m \u001b[0mcnt\u001b[0m \u001b[0;34m+\u001b[0m \u001b[0;36m1\u001b[0m\u001b[0;34m\u001b[0m\u001b[0;34m\u001b[0m\u001b[0m\n\u001b[1;32m      8\u001b[0m \u001b[0mmat2\u001b[0m\u001b[0;34m\u001b[0m\u001b[0;34m\u001b[0m\u001b[0m\n",
            "\u001b[0;31mTypeError\u001b[0m: 'ResourceVariable' object does not support item assignment"
          ]
        }
      ]
    },
    {
      "cell_type": "code",
      "source": [
        "# tf.reshape을 이용하여 행렬과 행렬 연산 예제를 위한 텐서 만들기\n",
        "import numpy as np\n",
        "mat_temp = np.array([1,2,3,4,5,6,7,8,9])\n",
        "mat2 = tf.reshape(mat_temp,[3,3])\n",
        "mat2 = tf.cast(mat2,tf.float32)\n",
        "mat2"
      ],
      "metadata": {
        "colab": {
          "base_uri": "https://localhost:8080/"
        },
        "id": "43d2OMA5YsVf",
        "outputId": "034b023a-e67c-4798-ffe6-104568003f03"
      },
      "execution_count": 16,
      "outputs": [
        {
          "output_type": "execute_result",
          "data": {
            "text/plain": [
              "<tf.Tensor: shape=(3, 3), dtype=float32, numpy=\n",
              "array([[1., 2., 3.],\n",
              "       [4., 5., 6.],\n",
              "       [7., 8., 9.]], dtype=float32)>"
            ]
          },
          "metadata": {},
          "execution_count": 16
        }
      ]
    },
    {
      "cell_type": "code",
      "source": [
        "mat3 = (mat1+mat2)*mat2 - mat1*mat2\n",
        "mat3"
      ],
      "metadata": {
        "colab": {
          "base_uri": "https://localhost:8080/"
        },
        "id": "HUIUYSbmZe8v",
        "outputId": "d1eccdff-d504-455f-8064-d6ae1f03a816"
      },
      "execution_count": 17,
      "outputs": [
        {
          "output_type": "execute_result",
          "data": {
            "text/plain": [
              "<tf.Tensor: shape=(3, 3), dtype=float32, numpy=\n",
              "array([[ 1.,  4.,  9.],\n",
              "       [16., 25., 36.],\n",
              "       [49., 64., 81.]], dtype=float32)>"
            ]
          },
          "metadata": {},
          "execution_count": 17
        }
      ]
    },
    {
      "cell_type": "code",
      "source": [
        "mat4 = tf.dot(mat2,mat3)\n",
        "mat4"
      ],
      "metadata": {
        "colab": {
          "base_uri": "https://localhost:8080/",
          "height": 170
        },
        "id": "5YmNfZguZi7r",
        "outputId": "3174b8cf-20eb-42f7-fa3d-078ea9252a60"
      },
      "execution_count": 19,
      "outputs": [
        {
          "output_type": "error",
          "ename": "AttributeError",
          "evalue": "module 'tensorflow' has no attribute 'dot'",
          "traceback": [
            "\u001b[0;31m---------------------------------------------------------------------------\u001b[0m",
            "\u001b[0;31mAttributeError\u001b[0m                            Traceback (most recent call last)",
            "\u001b[0;32m<ipython-input-19-b37c37fd312e>\u001b[0m in \u001b[0;36m<cell line: 1>\u001b[0;34m()\u001b[0m\n\u001b[0;32m----> 1\u001b[0;31m \u001b[0mmat4\u001b[0m \u001b[0;34m=\u001b[0m \u001b[0mtf\u001b[0m\u001b[0;34m.\u001b[0m\u001b[0mdot\u001b[0m\u001b[0;34m(\u001b[0m\u001b[0mmat2\u001b[0m\u001b[0;34m,\u001b[0m\u001b[0mmat3\u001b[0m\u001b[0;34m)\u001b[0m\u001b[0;34m\u001b[0m\u001b[0;34m\u001b[0m\u001b[0m\n\u001b[0m\u001b[1;32m      2\u001b[0m \u001b[0mmat4\u001b[0m\u001b[0;34m\u001b[0m\u001b[0;34m\u001b[0m\u001b[0m\n",
            "\u001b[0;31mAttributeError\u001b[0m: module 'tensorflow' has no attribute 'dot'"
          ]
        }
      ]
    },
    {
      "cell_type": "code",
      "source": [
        "mat5 = tf.matmul(mat2,mat3)\n",
        "mat5"
      ],
      "metadata": {
        "colab": {
          "base_uri": "https://localhost:8080/"
        },
        "id": "fcQbz2wfZmhF",
        "outputId": "18e28047-14d7-4aca-f7b4-7e1d48259bcd"
      },
      "execution_count": 20,
      "outputs": [
        {
          "output_type": "execute_result",
          "data": {
            "text/plain": [
              "<tf.Tensor: shape=(3, 3), dtype=float32, numpy=\n",
              "array([[ 180.,  246.,  324.],\n",
              "       [ 378.,  525.,  702.],\n",
              "       [ 576.,  804., 1080.]], dtype=float32)>"
            ]
          },
          "metadata": {},
          "execution_count": 20
        }
      ]
    },
    {
      "cell_type": "code",
      "source": [
        "vec = tf.Variable([1,2,3],dtype=tf.float32)\n",
        "vec"
      ],
      "metadata": {
        "colab": {
          "base_uri": "https://localhost:8080/"
        },
        "id": "5zExSYgQZp_P",
        "outputId": "4a651123-d585-4483-c061-d76934abae85"
      },
      "execution_count": 21,
      "outputs": [
        {
          "output_type": "execute_result",
          "data": {
            "text/plain": [
              "<tf.Variable 'Variable:0' shape=(3,) dtype=float32, numpy=array([1., 2., 3.], dtype=float32)>"
            ]
          },
          "metadata": {},
          "execution_count": 21
        }
      ]
    },
    {
      "cell_type": "code",
      "source": [
        "vec = tf.reshape(vec,(3,1))"
      ],
      "metadata": {
        "id": "1Ctysn2XZvAV"
      },
      "execution_count": 22,
      "outputs": []
    },
    {
      "cell_type": "code",
      "source": [
        "mat6 = tf.dot(mat2,vec)\n",
        "mat6"
      ],
      "metadata": {
        "colab": {
          "base_uri": "https://localhost:8080/",
          "height": 170
        },
        "id": "V7tmwvEqZyFH",
        "outputId": "aa46a380-614c-4d51-f1ac-9638d362d890"
      },
      "execution_count": 24,
      "outputs": [
        {
          "output_type": "error",
          "ename": "AttributeError",
          "evalue": "module 'tensorflow' has no attribute 'dot'",
          "traceback": [
            "\u001b[0;31m---------------------------------------------------------------------------\u001b[0m",
            "\u001b[0;31mAttributeError\u001b[0m                            Traceback (most recent call last)",
            "\u001b[0;32m<ipython-input-24-bfbf5d0bd815>\u001b[0m in \u001b[0;36m<cell line: 1>\u001b[0;34m()\u001b[0m\n\u001b[0;32m----> 1\u001b[0;31m \u001b[0mmat6\u001b[0m \u001b[0;34m=\u001b[0m \u001b[0mtf\u001b[0m\u001b[0;34m.\u001b[0m\u001b[0mdot\u001b[0m\u001b[0;34m(\u001b[0m\u001b[0mmat2\u001b[0m\u001b[0;34m,\u001b[0m\u001b[0mvec\u001b[0m\u001b[0;34m)\u001b[0m\u001b[0;34m\u001b[0m\u001b[0;34m\u001b[0m\u001b[0m\n\u001b[0m\u001b[1;32m      2\u001b[0m \u001b[0mmat6\u001b[0m\u001b[0;34m\u001b[0m\u001b[0;34m\u001b[0m\u001b[0m\n",
            "\u001b[0;31mAttributeError\u001b[0m: module 'tensorflow' has no attribute 'dot'"
          ]
        }
      ]
    },
    {
      "cell_type": "code",
      "source": [
        "mat7 = tf.matmul(mat2,vec)\n",
        "mat7"
      ],
      "metadata": {
        "colab": {
          "base_uri": "https://localhost:8080/"
        },
        "id": "W7owNoEFZ19F",
        "outputId": "f946b0ee-fe21-4f6c-fe28-b3c644aa6da7"
      },
      "execution_count": 25,
      "outputs": [
        {
          "output_type": "execute_result",
          "data": {
            "text/plain": [
              "<tf.Tensor: shape=(3, 1), dtype=float32, numpy=\n",
              "array([[14.],\n",
              "       [32.],\n",
              "       [50.]], dtype=float32)>"
            ]
          },
          "metadata": {},
          "execution_count": 25
        }
      ]
    },
    {
      "cell_type": "code",
      "source": [
        "# pytorch를 이용한 텐서 연산\n",
        "import torch as th\n",
        "mat1 = th.ones([3,3],dtype=th.float32)\n",
        "mat1"
      ],
      "metadata": {
        "colab": {
          "base_uri": "https://localhost:8080/"
        },
        "id": "kNLNoJ-SZ6w6",
        "outputId": "f135f8e7-114e-4b1e-b80b-66982d246e1d"
      },
      "execution_count": 26,
      "outputs": [
        {
          "output_type": "execute_result",
          "data": {
            "text/plain": [
              "tensor([[1., 1., 1.],\n",
              "        [1., 1., 1.],\n",
              "        [1., 1., 1.]])"
            ]
          },
          "metadata": {},
          "execution_count": 26
        }
      ]
    },
    {
      "cell_type": "code",
      "source": [
        "cnt = 1\n",
        "mat2 = th.zeros([3,3],dtype=th.float32)\n",
        "\n",
        "for i in range(3):\n",
        "    for j in range(3):\n",
        "        mat2[i,j] = mat1[i,j]*cnt\n",
        "        cnt = cnt+1\n",
        "mat2"
      ],
      "metadata": {
        "colab": {
          "base_uri": "https://localhost:8080/"
        },
        "id": "vSwP223qbM6y",
        "outputId": "2c2e0949-53a5-4cc5-dcad-cb67d369ec73"
      },
      "execution_count": 27,
      "outputs": [
        {
          "output_type": "execute_result",
          "data": {
            "text/plain": [
              "tensor([[1., 2., 3.],\n",
              "        [4., 5., 6.],\n",
              "        [7., 8., 9.]])"
            ]
          },
          "metadata": {},
          "execution_count": 27
        }
      ]
    },
    {
      "cell_type": "code",
      "source": [
        "mat4 = th.dot(mat2,mat3)\n",
        "mat4"
      ],
      "metadata": {
        "colab": {
          "base_uri": "https://localhost:8080/",
          "height": 170
        },
        "id": "ULbJ4ezGbac7",
        "outputId": "299cce9b-7261-49bf-d528-fa5683861bba"
      },
      "execution_count": 29,
      "outputs": [
        {
          "output_type": "error",
          "ename": "TypeError",
          "evalue": "dot(): argument 'tensor' (position 2) must be Tensor, not tensorflow.python.framework.ops.EagerTensor",
          "traceback": [
            "\u001b[0;31m---------------------------------------------------------------------------\u001b[0m",
            "\u001b[0;31mTypeError\u001b[0m                                 Traceback (most recent call last)",
            "\u001b[0;32m<ipython-input-29-b22920b87180>\u001b[0m in \u001b[0;36m<cell line: 1>\u001b[0;34m()\u001b[0m\n\u001b[0;32m----> 1\u001b[0;31m \u001b[0mmat4\u001b[0m \u001b[0;34m=\u001b[0m \u001b[0mth\u001b[0m\u001b[0;34m.\u001b[0m\u001b[0mdot\u001b[0m\u001b[0;34m(\u001b[0m\u001b[0mmat2\u001b[0m\u001b[0;34m,\u001b[0m\u001b[0mmat3\u001b[0m\u001b[0;34m)\u001b[0m\u001b[0;34m\u001b[0m\u001b[0;34m\u001b[0m\u001b[0m\n\u001b[0m\u001b[1;32m      2\u001b[0m \u001b[0mmat4\u001b[0m\u001b[0;34m\u001b[0m\u001b[0;34m\u001b[0m\u001b[0m\n",
            "\u001b[0;31mTypeError\u001b[0m: dot(): argument 'tensor' (position 2) must be Tensor, not tensorflow.python.framework.ops.EagerTensor"
          ]
        }
      ]
    },
    {
      "cell_type": "code",
      "source": [
        "mat3 = (mat1+mat2)*mat2-mat1*mat2\n",
        "mat3"
      ],
      "metadata": {
        "colab": {
          "base_uri": "https://localhost:8080/"
        },
        "id": "j9X9YUCKbtXX",
        "outputId": "cc3f41ef-8cbd-41f7-c0b2-cb101e4063c5"
      },
      "execution_count": 30,
      "outputs": [
        {
          "output_type": "execute_result",
          "data": {
            "text/plain": [
              "tensor([[ 1.,  4.,  9.],\n",
              "        [16., 25., 36.],\n",
              "        [49., 64., 81.]])"
            ]
          },
          "metadata": {},
          "execution_count": 30
        }
      ]
    },
    {
      "cell_type": "code",
      "source": [
        "mat5 = th.matmul(mat2,mat3)\n",
        "mat5"
      ],
      "metadata": {
        "colab": {
          "base_uri": "https://localhost:8080/"
        },
        "id": "fX4sHZrDblmA",
        "outputId": "70252787-971f-4d6f-bf57-62ae56440a12"
      },
      "execution_count": 31,
      "outputs": [
        {
          "output_type": "execute_result",
          "data": {
            "text/plain": [
              "tensor([[ 180.,  246.,  324.],\n",
              "        [ 378.,  525.,  702.],\n",
              "        [ 576.,  804., 1080.]])"
            ]
          },
          "metadata": {},
          "execution_count": 31
        }
      ]
    },
    {
      "cell_type": "code",
      "source": [
        "# 행렬 x 벡터 연산 예제를 위한 벡터 생성\n",
        "vec = th.tensor([1,2,3],dtype=th.float32)\n",
        "vec"
      ],
      "metadata": {
        "colab": {
          "base_uri": "https://localhost:8080/"
        },
        "id": "OW3DqisZboMq",
        "outputId": "35746bd5-8ae8-4805-e5a6-d43ebd9066c8"
      },
      "execution_count": 32,
      "outputs": [
        {
          "output_type": "execute_result",
          "data": {
            "text/plain": [
              "tensor([1., 2., 3.])"
            ]
          },
          "metadata": {},
          "execution_count": 32
        }
      ]
    },
    {
      "cell_type": "code",
      "source": [
        "# 행렬x벡터 연산을 위한 torch.dot과 torch.matmul 비교\n",
        "mat6 = th.dot(mat2,vec)\n",
        "mat6"
      ],
      "metadata": {
        "colab": {
          "base_uri": "https://localhost:8080/",
          "height": 189
        },
        "id": "1yo911_XcE0d",
        "outputId": "ba0add9c-a656-4e86-9b9e-fab983d12ed1"
      },
      "execution_count": 33,
      "outputs": [
        {
          "output_type": "error",
          "ename": "RuntimeError",
          "evalue": "1D tensors expected, but got 2D and 1D tensors",
          "traceback": [
            "\u001b[0;31m---------------------------------------------------------------------------\u001b[0m",
            "\u001b[0;31mRuntimeError\u001b[0m                              Traceback (most recent call last)",
            "\u001b[0;32m<ipython-input-33-1372c0d36af6>\u001b[0m in \u001b[0;36m<cell line: 2>\u001b[0;34m()\u001b[0m\n\u001b[1;32m      1\u001b[0m \u001b[0;31m# 행렬x벡터 연산을 위한 torch.dot과 torch.matmul 비교\u001b[0m\u001b[0;34m\u001b[0m\u001b[0;34m\u001b[0m\u001b[0m\n\u001b[0;32m----> 2\u001b[0;31m \u001b[0mmat6\u001b[0m \u001b[0;34m=\u001b[0m \u001b[0mth\u001b[0m\u001b[0;34m.\u001b[0m\u001b[0mdot\u001b[0m\u001b[0;34m(\u001b[0m\u001b[0mmat2\u001b[0m\u001b[0;34m,\u001b[0m\u001b[0mvec\u001b[0m\u001b[0;34m)\u001b[0m\u001b[0;34m\u001b[0m\u001b[0;34m\u001b[0m\u001b[0m\n\u001b[0m\u001b[1;32m      3\u001b[0m \u001b[0mmat6\u001b[0m\u001b[0;34m\u001b[0m\u001b[0;34m\u001b[0m\u001b[0m\n",
            "\u001b[0;31mRuntimeError\u001b[0m: 1D tensors expected, but got 2D and 1D tensors"
          ]
        }
      ]
    },
    {
      "cell_type": "code",
      "source": [
        "# 행렬x벡터 연산을 위한 torch.dot과 torch.matmul 비교\n",
        "mat7 = th.matmul(mat2,vec)\n",
        "mat7"
      ],
      "metadata": {
        "colab": {
          "base_uri": "https://localhost:8080/"
        },
        "id": "goADCXWPcLIV",
        "outputId": "ce3e9b56-23d0-44d5-f940-5395911113c0"
      },
      "execution_count": 34,
      "outputs": [
        {
          "output_type": "execute_result",
          "data": {
            "text/plain": [
              "tensor([14., 32., 50.])"
            ]
          },
          "metadata": {},
          "execution_count": 34
        }
      ]
    },
    {
      "cell_type": "code",
      "source": [
        "import torch\n",
        "import torch.nn as nn\n",
        "import torch.nn.functional as F\n",
        "import torch.optim as optim\n",
        "from torchvision import datasets,transforms\n",
        "import matplotlib.pyplot as plt\n",
        "\n",
        "# 하이퍼파라미터 설정\n",
        "batch_size = 64\n",
        "test_batch_size = 1000\n",
        "epochs = 50\n",
        "lr = 0.001\n",
        "momentum = 0.01\n",
        "gpu_use = True\n",
        "log_interval = 200"
      ],
      "metadata": {
        "id": "CllVdPpMcTek"
      },
      "execution_count": 35,
      "outputs": []
    },
    {
      "cell_type": "code",
      "source": [
        "# GPU 확인\n",
        "cuda_use = gpu_use and torch.cuda.is_available()\n",
        "device = torch.device(\"cuda\" if cuda_use else \"cpu\")\n",
        "print(cuda_use)\n",
        "print(\"set hyperparameters done\")"
      ],
      "metadata": {
        "colab": {
          "base_uri": "https://localhost:8080/"
        },
        "id": "PDu6aUX0f6Ub",
        "outputId": "2e671a0c-9868-453f-d866-d2d1d6c977f8"
      },
      "execution_count": 36,
      "outputs": [
        {
          "output_type": "stream",
          "name": "stdout",
          "text": [
            "False\n",
            "set hyperparameters done\n"
          ]
        }
      ]
    },
    {
      "cell_type": "code",
      "source": [
        "## 모든 데이터 자료구조를 tensor로 변환\n",
        "transform = transforms.Compose([transforms.ToTensor()])\n",
        "\n",
        "## torch.util.data 리스트에 저장된 URL을 통해 데이터 입력\n",
        "train_loader = torch.utils.data.DataLoader(\n",
        "    datasets.MNIST('../data',train=True,download=True,transform=transform),\n",
        "    batch_size = batch_size,shuffle=True\n",
        ")\n",
        "\n",
        "test_loader  = torch.utils.data.DataLoader(\n",
        "    datasets.MNIST('../data',train=False,download=True,transform=transform),\n",
        "    batch_size = batch_size,shuffle=True\n",
        ")"
      ],
      "metadata": {
        "colab": {
          "base_uri": "https://localhost:8080/"
        },
        "id": "SZGC5klDgKQV",
        "outputId": "54f96744-a9a4-4617-827a-7fd4869f3c79"
      },
      "execution_count": 37,
      "outputs": [
        {
          "output_type": "stream",
          "name": "stdout",
          "text": [
            "Downloading http://yann.lecun.com/exdb/mnist/train-images-idx3-ubyte.gz\n",
            "Downloading http://yann.lecun.com/exdb/mnist/train-images-idx3-ubyte.gz to ../data/MNIST/raw/train-images-idx3-ubyte.gz\n"
          ]
        },
        {
          "output_type": "stream",
          "name": "stderr",
          "text": [
            "100%|██████████| 9912422/9912422 [00:00<00:00, 107650530.14it/s]\n"
          ]
        },
        {
          "output_type": "stream",
          "name": "stdout",
          "text": [
            "Extracting ../data/MNIST/raw/train-images-idx3-ubyte.gz to ../data/MNIST/raw\n",
            "\n",
            "Downloading http://yann.lecun.com/exdb/mnist/train-labels-idx1-ubyte.gz\n",
            "Downloading http://yann.lecun.com/exdb/mnist/train-labels-idx1-ubyte.gz to ../data/MNIST/raw/train-labels-idx1-ubyte.gz\n"
          ]
        },
        {
          "output_type": "stream",
          "name": "stderr",
          "text": [
            "100%|██████████| 28881/28881 [00:00<00:00, 21428567.81it/s]\n"
          ]
        },
        {
          "output_type": "stream",
          "name": "stdout",
          "text": [
            "Extracting ../data/MNIST/raw/train-labels-idx1-ubyte.gz to ../data/MNIST/raw\n",
            "\n",
            "Downloading http://yann.lecun.com/exdb/mnist/t10k-images-idx3-ubyte.gz\n",
            "Downloading http://yann.lecun.com/exdb/mnist/t10k-images-idx3-ubyte.gz to ../data/MNIST/raw/t10k-images-idx3-ubyte.gz\n"
          ]
        },
        {
          "output_type": "stream",
          "name": "stderr",
          "text": [
            "100%|██████████| 1648877/1648877 [00:00<00:00, 29629545.17it/s]\n"
          ]
        },
        {
          "output_type": "stream",
          "name": "stdout",
          "text": [
            "Extracting ../data/MNIST/raw/t10k-images-idx3-ubyte.gz to ../data/MNIST/raw\n",
            "\n",
            "Downloading http://yann.lecun.com/exdb/mnist/t10k-labels-idx1-ubyte.gz\n",
            "Downloading http://yann.lecun.com/exdb/mnist/t10k-labels-idx1-ubyte.gz to ../data/MNIST/raw/t10k-labels-idx1-ubyte.gz\n"
          ]
        },
        {
          "output_type": "stream",
          "name": "stderr",
          "text": [
            "100%|██████████| 4542/4542 [00:00<00:00, 11723402.32it/s]\n"
          ]
        },
        {
          "output_type": "stream",
          "name": "stdout",
          "text": [
            "Extracting ../data/MNIST/raw/t10k-labels-idx1-ubyte.gz to ../data/MNIST/raw\n",
            "\n"
          ]
        }
      ]
    },
    {
      "cell_type": "code",
      "source": [
        "print(len(train_loader.dataset))\n",
        "print(len(test_loader.dataset))\n",
        "print('data loading done')"
      ],
      "metadata": {
        "colab": {
          "base_uri": "https://localhost:8080/"
        },
        "id": "Eqi1N36ygwY0",
        "outputId": "5ca42f04-7882-49fa-aed6-d9a0a5fec771"
      },
      "execution_count": 38,
      "outputs": [
        {
          "output_type": "stream",
          "name": "stdout",
          "text": [
            "60000\n",
            "10000\n",
            "data loading done\n"
          ]
        }
      ]
    },
    {
      "cell_type": "code",
      "source": [
        "## MLP 모델 설계\n",
        "class Net(nn.Module):\n",
        "    def __init__(self):\n",
        "        super(Net,self).__init__()\n",
        "        self.fc1 = nn.Linear(784,400)\n",
        "        self.fc2 = nn.Linear(400,150)\n",
        "        self.fc3 = nn.Linear(150,50)\n",
        "        self.fc4 = nn.Linear(50,10)\n",
        "    def forward(self,x):\n",
        "        x = x.float()\n",
        "        x = x.view(-1,784)\n",
        "        x = F.relu(self.fc1(x))\n",
        "        x = F.relu(self.fc2(x))\n",
        "        x = F.relu(self.fc3(x))\n",
        "        x = F.relu(self.fc4(x))\n",
        "        x = F.log_softmax(x,dim=1)\n",
        "        return x\n",
        "print('model design done')"
      ],
      "metadata": {
        "id": "xF1cItYKg3tk",
        "colab": {
          "base_uri": "https://localhost:8080/"
        },
        "outputId": "2c4f20c1-f9f2-4893-dac7-f7f352be95e9"
      },
      "execution_count": 39,
      "outputs": [
        {
          "output_type": "stream",
          "name": "stdout",
          "text": [
            "model design done\n"
          ]
        }
      ]
    },
    {
      "cell_type": "code",
      "source": [
        "model = Net().to(device)\n",
        "## 최적화 SGD\n",
        "optimizer = optim.SGD(model.parameters(),lr=lr,momentum=momentum)\n",
        "print(model)"
      ],
      "metadata": {
        "colab": {
          "base_uri": "https://localhost:8080/"
        },
        "id": "3xOY98fe68cF",
        "outputId": "6cebf83d-057f-4a75-e0a8-019634309c82"
      },
      "execution_count": 40,
      "outputs": [
        {
          "output_type": "stream",
          "name": "stdout",
          "text": [
            "Net(\n",
            "  (fc1): Linear(in_features=784, out_features=400, bias=True)\n",
            "  (fc2): Linear(in_features=400, out_features=150, bias=True)\n",
            "  (fc3): Linear(in_features=150, out_features=50, bias=True)\n",
            "  (fc4): Linear(in_features=50, out_features=10, bias=True)\n",
            ")\n"
          ]
        }
      ]
    },
    {
      "cell_type": "code",
      "source": [
        "def train(log_interval,model,device,train_loader,optimizer,epoch):\n",
        "    model.train()\n",
        "    for batch_idx,(data,target) in enumerate(train_loader):\n",
        "        data,target = data.to(device),target.to(device)\n",
        "        optimizer.zero_grad()\n",
        "        output = model(data)\n",
        "        loss = F.nll_loss(output,target)\n",
        "        loss.backward()\n",
        "        optimizer.step()\n",
        "        if batch_idx % log_interval==0:\n",
        "            print('Train Epoch:{} [{}/{} ({:.0f}%)] \\ tLoss: {:.6f}'.format(epoch,batch_idx*len(data),len(train_loader.dataset),\n",
        "                                                                            100.*batch_idx/len(train_loader),loss.item()))"
      ],
      "metadata": {
        "id": "diVgnWsmAVQ8"
      },
      "execution_count": 41,
      "outputs": []
    },
    {
      "cell_type": "code",
      "source": [
        "## MLP 모델 검증 루틴 정의\n",
        "def test(log_interval,model,device,test_loader):\n",
        "    model.eval()\n",
        "    test_loss = 0\n",
        "    correct = 0\n",
        "    with torch.no_grad():\n",
        "        for data,target in test_loader:\n",
        "            data,target = data.to(device),target.to(device)\n",
        "            output = model(data)\n",
        "            test_loss += F.nll_loss(output,target,reduction='sum').item()\n",
        "\n",
        "            pred = output.argmax(dim=1,keepdim=True)\n",
        "            correct += pred.eq(target.view_as(pred)).sum().item()\n",
        "    test_loss /= len(test_loader.dataset)\n",
        "\n",
        "    print('\\nTest set: Average loss: {:.4f}, Accuracy:{}/{} ({:.0f}%) \\n'.format(test_loss,correct,len(test_loader.dataset),\n",
        "                                                                                 100.*correct / len(test_loader.dataset)))"
      ],
      "metadata": {
        "id": "wcbNwV0xBVMn"
      },
      "execution_count": 42,
      "outputs": []
    },
    {
      "cell_type": "code",
      "source": [
        "# MLP 모델 학습\n",
        "for epoch in range(1,epochs):\n",
        "    train(log_interval,model,device,train_loader,optimizer,epoch)\n",
        "    test(log_interval,model,device,test_loader)\n",
        "torch.save(model,'./model.pt')"
      ],
      "metadata": {
        "colab": {
          "base_uri": "https://localhost:8080/"
        },
        "id": "wFPg-USFCdNr",
        "outputId": "7a6d5fd6-1b6e-4bdc-df81-7caca38e9fa9"
      },
      "execution_count": 43,
      "outputs": [
        {
          "output_type": "stream",
          "name": "stdout",
          "text": [
            "Train Epoch:1 [0/60000 (0%)] \\ tLoss: 2.297736\n",
            "Train Epoch:1 [12800/60000 (21%)] \\ tLoss: 2.301420\n",
            "Train Epoch:1 [25600/60000 (43%)] \\ tLoss: 2.308401\n",
            "Train Epoch:1 [38400/60000 (64%)] \\ tLoss: 2.299233\n",
            "Train Epoch:1 [51200/60000 (85%)] \\ tLoss: 2.299198\n",
            "\n",
            "Test set: Average loss: 2.3018, Accuracy:1444/10000 (14%) \n",
            "\n",
            "Train Epoch:2 [0/60000 (0%)] \\ tLoss: 2.305381\n",
            "Train Epoch:2 [12800/60000 (21%)] \\ tLoss: 2.285352\n",
            "Train Epoch:2 [25600/60000 (43%)] \\ tLoss: 2.302297\n",
            "Train Epoch:2 [38400/60000 (64%)] \\ tLoss: 2.300548\n",
            "Train Epoch:2 [51200/60000 (85%)] \\ tLoss: 2.299370\n",
            "\n",
            "Test set: Average loss: 2.2995, Accuracy:1713/10000 (17%) \n",
            "\n",
            "Train Epoch:3 [0/60000 (0%)] \\ tLoss: 2.284347\n",
            "Train Epoch:3 [12800/60000 (21%)] \\ tLoss: 2.291163\n",
            "Train Epoch:3 [25600/60000 (43%)] \\ tLoss: 2.285462\n",
            "Train Epoch:3 [38400/60000 (64%)] \\ tLoss: 2.295170\n",
            "Train Epoch:3 [51200/60000 (85%)] \\ tLoss: 2.296650\n",
            "\n",
            "Test set: Average loss: 2.2971, Accuracy:1840/10000 (18%) \n",
            "\n",
            "Train Epoch:4 [0/60000 (0%)] \\ tLoss: 2.301091\n",
            "Train Epoch:4 [12800/60000 (21%)] \\ tLoss: 2.297294\n",
            "Train Epoch:4 [25600/60000 (43%)] \\ tLoss: 2.290366\n",
            "Train Epoch:4 [38400/60000 (64%)] \\ tLoss: 2.290850\n",
            "Train Epoch:4 [51200/60000 (85%)] \\ tLoss: 2.293795\n",
            "\n",
            "Test set: Average loss: 2.2942, Accuracy:1883/10000 (19%) \n",
            "\n",
            "Train Epoch:5 [0/60000 (0%)] \\ tLoss: 2.298174\n",
            "Train Epoch:5 [12800/60000 (21%)] \\ tLoss: 2.306658\n",
            "Train Epoch:5 [25600/60000 (43%)] \\ tLoss: 2.294122\n",
            "Train Epoch:5 [38400/60000 (64%)] \\ tLoss: 2.294340\n",
            "Train Epoch:5 [51200/60000 (85%)] \\ tLoss: 2.289090\n",
            "\n",
            "Test set: Average loss: 2.2907, Accuracy:1914/10000 (19%) \n",
            "\n",
            "Train Epoch:6 [0/60000 (0%)] \\ tLoss: 2.288580\n",
            "Train Epoch:6 [12800/60000 (21%)] \\ tLoss: 2.289677\n",
            "Train Epoch:6 [25600/60000 (43%)] \\ tLoss: 2.290996\n",
            "Train Epoch:6 [38400/60000 (64%)] \\ tLoss: 2.292661\n",
            "Train Epoch:6 [51200/60000 (85%)] \\ tLoss: 2.290843\n",
            "\n",
            "Test set: Average loss: 2.2864, Accuracy:2060/10000 (21%) \n",
            "\n",
            "Train Epoch:7 [0/60000 (0%)] \\ tLoss: 2.284523\n",
            "Train Epoch:7 [12800/60000 (21%)] \\ tLoss: 2.295220\n",
            "Train Epoch:7 [25600/60000 (43%)] \\ tLoss: 2.283738\n",
            "Train Epoch:7 [38400/60000 (64%)] \\ tLoss: 2.262510\n",
            "Train Epoch:7 [51200/60000 (85%)] \\ tLoss: 2.285581\n",
            "\n",
            "Test set: Average loss: 2.2811, Accuracy:2328/10000 (23%) \n",
            "\n",
            "Train Epoch:8 [0/60000 (0%)] \\ tLoss: 2.288391\n",
            "Train Epoch:8 [12800/60000 (21%)] \\ tLoss: 2.258496\n",
            "Train Epoch:8 [25600/60000 (43%)] \\ tLoss: 2.276813\n",
            "Train Epoch:8 [38400/60000 (64%)] \\ tLoss: 2.278645\n",
            "Train Epoch:8 [51200/60000 (85%)] \\ tLoss: 2.272270\n",
            "\n",
            "Test set: Average loss: 2.2745, Accuracy:2470/10000 (25%) \n",
            "\n",
            "Train Epoch:9 [0/60000 (0%)] \\ tLoss: 2.272439\n",
            "Train Epoch:9 [12800/60000 (21%)] \\ tLoss: 2.269581\n",
            "Train Epoch:9 [25600/60000 (43%)] \\ tLoss: 2.271901\n",
            "Train Epoch:9 [38400/60000 (64%)] \\ tLoss: 2.279293\n",
            "Train Epoch:9 [51200/60000 (85%)] \\ tLoss: 2.262191\n",
            "\n",
            "Test set: Average loss: 2.2658, Accuracy:2519/10000 (25%) \n",
            "\n",
            "Train Epoch:10 [0/60000 (0%)] \\ tLoss: 2.263410\n",
            "Train Epoch:10 [12800/60000 (21%)] \\ tLoss: 2.279961\n",
            "Train Epoch:10 [25600/60000 (43%)] \\ tLoss: 2.263075\n",
            "Train Epoch:10 [38400/60000 (64%)] \\ tLoss: 2.248558\n",
            "Train Epoch:10 [51200/60000 (85%)] \\ tLoss: 2.235632\n",
            "\n",
            "Test set: Average loss: 2.2544, Accuracy:2511/10000 (25%) \n",
            "\n",
            "Train Epoch:11 [0/60000 (0%)] \\ tLoss: 2.243799\n",
            "Train Epoch:11 [12800/60000 (21%)] \\ tLoss: 2.213218\n",
            "Train Epoch:11 [25600/60000 (43%)] \\ tLoss: 2.218689\n",
            "Train Epoch:11 [38400/60000 (64%)] \\ tLoss: 2.238036\n",
            "Train Epoch:11 [51200/60000 (85%)] \\ tLoss: 2.248261\n",
            "\n",
            "Test set: Average loss: 2.2383, Accuracy:2475/10000 (25%) \n",
            "\n",
            "Train Epoch:12 [0/60000 (0%)] \\ tLoss: 2.240244\n",
            "Train Epoch:12 [12800/60000 (21%)] \\ tLoss: 2.268841\n",
            "Train Epoch:12 [25600/60000 (43%)] \\ tLoss: 2.222330\n",
            "Train Epoch:12 [38400/60000 (64%)] \\ tLoss: 2.271619\n",
            "Train Epoch:12 [51200/60000 (85%)] \\ tLoss: 2.218892\n",
            "\n",
            "Test set: Average loss: 2.2150, Accuracy:2460/10000 (25%) \n",
            "\n",
            "Train Epoch:13 [0/60000 (0%)] \\ tLoss: 2.168103\n",
            "Train Epoch:13 [12800/60000 (21%)] \\ tLoss: 2.246938\n",
            "Train Epoch:13 [25600/60000 (43%)] \\ tLoss: 2.199698\n",
            "Train Epoch:13 [38400/60000 (64%)] \\ tLoss: 2.204929\n",
            "Train Epoch:13 [51200/60000 (85%)] \\ tLoss: 2.179627\n",
            "\n",
            "Test set: Average loss: 2.1810, Accuracy:2450/10000 (24%) \n",
            "\n",
            "Train Epoch:14 [0/60000 (0%)] \\ tLoss: 2.246853\n",
            "Train Epoch:14 [12800/60000 (21%)] \\ tLoss: 2.180534\n",
            "Train Epoch:14 [25600/60000 (43%)] \\ tLoss: 2.231460\n",
            "Train Epoch:14 [38400/60000 (64%)] \\ tLoss: 2.047214\n",
            "Train Epoch:14 [51200/60000 (85%)] \\ tLoss: 2.239108\n",
            "\n",
            "Test set: Average loss: 2.1360, Accuracy:2471/10000 (25%) \n",
            "\n",
            "Train Epoch:15 [0/60000 (0%)] \\ tLoss: 2.144108\n",
            "Train Epoch:15 [12800/60000 (21%)] \\ tLoss: 2.188950\n",
            "Train Epoch:15 [25600/60000 (43%)] \\ tLoss: 2.088747\n",
            "Train Epoch:15 [38400/60000 (64%)] \\ tLoss: 2.116954\n",
            "Train Epoch:15 [51200/60000 (85%)] \\ tLoss: 2.131190\n",
            "\n",
            "Test set: Average loss: 2.0783, Accuracy:2557/10000 (26%) \n",
            "\n",
            "Train Epoch:16 [0/60000 (0%)] \\ tLoss: 2.111445\n",
            "Train Epoch:16 [12800/60000 (21%)] \\ tLoss: 2.031563\n",
            "Train Epoch:16 [25600/60000 (43%)] \\ tLoss: 2.113344\n",
            "Train Epoch:16 [38400/60000 (64%)] \\ tLoss: 1.975362\n",
            "Train Epoch:16 [51200/60000 (85%)] \\ tLoss: 1.952900\n",
            "\n",
            "Test set: Average loss: 2.0219, Accuracy:2888/10000 (29%) \n",
            "\n",
            "Train Epoch:17 [0/60000 (0%)] \\ tLoss: 1.952593\n",
            "Train Epoch:17 [12800/60000 (21%)] \\ tLoss: 1.827471\n",
            "Train Epoch:17 [25600/60000 (43%)] \\ tLoss: 1.787760\n",
            "Train Epoch:17 [38400/60000 (64%)] \\ tLoss: 2.037442\n",
            "Train Epoch:17 [51200/60000 (85%)] \\ tLoss: 1.954322\n",
            "\n",
            "Test set: Average loss: 1.9708, Accuracy:3287/10000 (33%) \n",
            "\n",
            "Train Epoch:18 [0/60000 (0%)] \\ tLoss: 2.153969\n",
            "Train Epoch:18 [12800/60000 (21%)] \\ tLoss: 2.097484\n",
            "Train Epoch:18 [25600/60000 (43%)] \\ tLoss: 1.920807\n",
            "Train Epoch:18 [38400/60000 (64%)] \\ tLoss: 1.819945\n",
            "Train Epoch:18 [51200/60000 (85%)] \\ tLoss: 1.956880\n",
            "\n",
            "Test set: Average loss: 1.9236, Accuracy:3580/10000 (36%) \n",
            "\n",
            "Train Epoch:19 [0/60000 (0%)] \\ tLoss: 1.942867\n",
            "Train Epoch:19 [12800/60000 (21%)] \\ tLoss: 1.921104\n",
            "Train Epoch:19 [25600/60000 (43%)] \\ tLoss: 1.797712\n",
            "Train Epoch:19 [38400/60000 (64%)] \\ tLoss: 1.801170\n",
            "Train Epoch:19 [51200/60000 (85%)] \\ tLoss: 1.998397\n",
            "\n",
            "Test set: Average loss: 1.8792, Accuracy:3774/10000 (38%) \n",
            "\n",
            "Train Epoch:20 [0/60000 (0%)] \\ tLoss: 1.771061\n",
            "Train Epoch:20 [12800/60000 (21%)] \\ tLoss: 1.685186\n",
            "Train Epoch:20 [25600/60000 (43%)] \\ tLoss: 1.714704\n",
            "Train Epoch:20 [38400/60000 (64%)] \\ tLoss: 1.822901\n",
            "Train Epoch:20 [51200/60000 (85%)] \\ tLoss: 1.761197\n",
            "\n",
            "Test set: Average loss: 1.8374, Accuracy:3887/10000 (39%) \n",
            "\n",
            "Train Epoch:21 [0/60000 (0%)] \\ tLoss: 1.637568\n",
            "Train Epoch:21 [12800/60000 (21%)] \\ tLoss: 1.827031\n",
            "Train Epoch:21 [25600/60000 (43%)] \\ tLoss: 1.701310\n",
            "Train Epoch:21 [38400/60000 (64%)] \\ tLoss: 1.814724\n",
            "Train Epoch:21 [51200/60000 (85%)] \\ tLoss: 1.636363\n",
            "\n",
            "Test set: Average loss: 1.7981, Accuracy:3985/10000 (40%) \n",
            "\n",
            "Train Epoch:22 [0/60000 (0%)] \\ tLoss: 1.717470\n",
            "Train Epoch:22 [12800/60000 (21%)] \\ tLoss: 1.736889\n",
            "Train Epoch:22 [25600/60000 (43%)] \\ tLoss: 1.783567\n",
            "Train Epoch:22 [38400/60000 (64%)] \\ tLoss: 1.984222\n",
            "Train Epoch:22 [51200/60000 (85%)] \\ tLoss: 1.961164\n",
            "\n",
            "Test set: Average loss: 1.7614, Accuracy:4059/10000 (41%) \n",
            "\n",
            "Train Epoch:23 [0/60000 (0%)] \\ tLoss: 1.573333\n",
            "Train Epoch:23 [12800/60000 (21%)] \\ tLoss: 1.548210\n",
            "Train Epoch:23 [25600/60000 (43%)] \\ tLoss: 1.696258\n",
            "Train Epoch:23 [38400/60000 (64%)] \\ tLoss: 1.706366\n",
            "Train Epoch:23 [51200/60000 (85%)] \\ tLoss: 1.962686\n",
            "\n",
            "Test set: Average loss: 1.7274, Accuracy:4120/10000 (41%) \n",
            "\n",
            "Train Epoch:24 [0/60000 (0%)] \\ tLoss: 1.542630\n",
            "Train Epoch:24 [12800/60000 (21%)] \\ tLoss: 1.546040\n",
            "Train Epoch:24 [25600/60000 (43%)] \\ tLoss: 1.751668\n",
            "Train Epoch:24 [38400/60000 (64%)] \\ tLoss: 1.729074\n",
            "Train Epoch:24 [51200/60000 (85%)] \\ tLoss: 1.604176\n",
            "\n",
            "Test set: Average loss: 1.6956, Accuracy:4187/10000 (42%) \n",
            "\n",
            "Train Epoch:25 [0/60000 (0%)] \\ tLoss: 1.725466\n",
            "Train Epoch:25 [12800/60000 (21%)] \\ tLoss: 1.733226\n",
            "Train Epoch:25 [25600/60000 (43%)] \\ tLoss: 1.797406\n",
            "Train Epoch:25 [38400/60000 (64%)] \\ tLoss: 1.819326\n",
            "Train Epoch:25 [51200/60000 (85%)] \\ tLoss: 1.514158\n",
            "\n",
            "Test set: Average loss: 1.6660, Accuracy:4247/10000 (42%) \n",
            "\n",
            "Train Epoch:26 [0/60000 (0%)] \\ tLoss: 1.831153\n",
            "Train Epoch:26 [12800/60000 (21%)] \\ tLoss: 1.850197\n",
            "Train Epoch:26 [25600/60000 (43%)] \\ tLoss: 1.599335\n",
            "Train Epoch:26 [38400/60000 (64%)] \\ tLoss: 1.743390\n",
            "Train Epoch:26 [51200/60000 (85%)] \\ tLoss: 1.582360\n",
            "\n",
            "Test set: Average loss: 1.6385, Accuracy:4293/10000 (43%) \n",
            "\n",
            "Train Epoch:27 [0/60000 (0%)] \\ tLoss: 1.609700\n",
            "Train Epoch:27 [12800/60000 (21%)] \\ tLoss: 1.598255\n",
            "Train Epoch:27 [25600/60000 (43%)] \\ tLoss: 1.800135\n",
            "Train Epoch:27 [38400/60000 (64%)] \\ tLoss: 1.431956\n",
            "Train Epoch:27 [51200/60000 (85%)] \\ tLoss: 1.351462\n",
            "\n",
            "Test set: Average loss: 1.6130, Accuracy:4353/10000 (44%) \n",
            "\n",
            "Train Epoch:28 [0/60000 (0%)] \\ tLoss: 1.763959\n",
            "Train Epoch:28 [12800/60000 (21%)] \\ tLoss: 1.683244\n",
            "Train Epoch:28 [25600/60000 (43%)] \\ tLoss: 1.613480\n",
            "Train Epoch:28 [38400/60000 (64%)] \\ tLoss: 1.805286\n",
            "Train Epoch:28 [51200/60000 (85%)] \\ tLoss: 1.560078\n",
            "\n",
            "Test set: Average loss: 1.5898, Accuracy:4416/10000 (44%) \n",
            "\n",
            "Train Epoch:29 [0/60000 (0%)] \\ tLoss: 1.705905\n",
            "Train Epoch:29 [12800/60000 (21%)] \\ tLoss: 1.453396\n",
            "Train Epoch:29 [25600/60000 (43%)] \\ tLoss: 1.581319\n",
            "Train Epoch:29 [38400/60000 (64%)] \\ tLoss: 1.439263\n",
            "Train Epoch:29 [51200/60000 (85%)] \\ tLoss: 1.614587\n",
            "\n",
            "Test set: Average loss: 1.5682, Accuracy:4471/10000 (45%) \n",
            "\n",
            "Train Epoch:30 [0/60000 (0%)] \\ tLoss: 1.654165\n",
            "Train Epoch:30 [12800/60000 (21%)] \\ tLoss: 1.504288\n",
            "Train Epoch:30 [25600/60000 (43%)] \\ tLoss: 1.522573\n",
            "Train Epoch:30 [38400/60000 (64%)] \\ tLoss: 1.334461\n",
            "Train Epoch:30 [51200/60000 (85%)] \\ tLoss: 1.616114\n",
            "\n",
            "Test set: Average loss: 1.5493, Accuracy:4546/10000 (45%) \n",
            "\n",
            "Train Epoch:31 [0/60000 (0%)] \\ tLoss: 1.394459\n",
            "Train Epoch:31 [12800/60000 (21%)] \\ tLoss: 1.699046\n",
            "Train Epoch:31 [25600/60000 (43%)] \\ tLoss: 1.569151\n",
            "Train Epoch:31 [38400/60000 (64%)] \\ tLoss: 1.692059\n",
            "Train Epoch:31 [51200/60000 (85%)] \\ tLoss: 1.724310\n",
            "\n",
            "Test set: Average loss: 1.5316, Accuracy:4605/10000 (46%) \n",
            "\n",
            "Train Epoch:32 [0/60000 (0%)] \\ tLoss: 1.394116\n",
            "Train Epoch:32 [12800/60000 (21%)] \\ tLoss: 1.690909\n",
            "Train Epoch:32 [25600/60000 (43%)] \\ tLoss: 1.511122\n",
            "Train Epoch:32 [38400/60000 (64%)] \\ tLoss: 1.584859\n",
            "Train Epoch:32 [51200/60000 (85%)] \\ tLoss: 1.489164\n",
            "\n",
            "Test set: Average loss: 1.5161, Accuracy:4687/10000 (47%) \n",
            "\n",
            "Train Epoch:33 [0/60000 (0%)] \\ tLoss: 1.600972\n",
            "Train Epoch:33 [12800/60000 (21%)] \\ tLoss: 1.431803\n",
            "Train Epoch:33 [25600/60000 (43%)] \\ tLoss: 1.551042\n",
            "Train Epoch:33 [38400/60000 (64%)] \\ tLoss: 1.680361\n",
            "Train Epoch:33 [51200/60000 (85%)] \\ tLoss: 1.443651\n",
            "\n",
            "Test set: Average loss: 1.5017, Accuracy:4746/10000 (47%) \n",
            "\n",
            "Train Epoch:34 [0/60000 (0%)] \\ tLoss: 1.196127\n",
            "Train Epoch:34 [12800/60000 (21%)] \\ tLoss: 1.620910\n",
            "Train Epoch:34 [25600/60000 (43%)] \\ tLoss: 1.344796\n",
            "Train Epoch:34 [38400/60000 (64%)] \\ tLoss: 1.432863\n",
            "Train Epoch:34 [51200/60000 (85%)] \\ tLoss: 1.626408\n",
            "\n",
            "Test set: Average loss: 1.4891, Accuracy:4825/10000 (48%) \n",
            "\n",
            "Train Epoch:35 [0/60000 (0%)] \\ tLoss: 1.517795\n",
            "Train Epoch:35 [12800/60000 (21%)] \\ tLoss: 1.525217\n",
            "Train Epoch:35 [25600/60000 (43%)] \\ tLoss: 1.528046\n",
            "Train Epoch:35 [38400/60000 (64%)] \\ tLoss: 1.542348\n",
            "Train Epoch:35 [51200/60000 (85%)] \\ tLoss: 1.618687\n",
            "\n",
            "Test set: Average loss: 1.4776, Accuracy:4868/10000 (49%) \n",
            "\n",
            "Train Epoch:36 [0/60000 (0%)] \\ tLoss: 1.468140\n",
            "Train Epoch:36 [12800/60000 (21%)] \\ tLoss: 1.565969\n",
            "Train Epoch:36 [25600/60000 (43%)] \\ tLoss: 1.356030\n",
            "Train Epoch:36 [38400/60000 (64%)] \\ tLoss: 1.440941\n",
            "Train Epoch:36 [51200/60000 (85%)] \\ tLoss: 1.623824\n",
            "\n",
            "Test set: Average loss: 1.4676, Accuracy:4935/10000 (49%) \n",
            "\n",
            "Train Epoch:37 [0/60000 (0%)] \\ tLoss: 1.609009\n",
            "Train Epoch:37 [12800/60000 (21%)] \\ tLoss: 1.342251\n",
            "Train Epoch:37 [25600/60000 (43%)] \\ tLoss: 1.378892\n",
            "Train Epoch:37 [38400/60000 (64%)] \\ tLoss: 1.467986\n",
            "Train Epoch:37 [51200/60000 (85%)] \\ tLoss: 1.440653\n",
            "\n",
            "Test set: Average loss: 1.4580, Accuracy:4996/10000 (50%) \n",
            "\n",
            "Train Epoch:38 [0/60000 (0%)] \\ tLoss: 1.322393\n",
            "Train Epoch:38 [12800/60000 (21%)] \\ tLoss: 1.239970\n",
            "Train Epoch:38 [25600/60000 (43%)] \\ tLoss: 1.437050\n",
            "Train Epoch:38 [38400/60000 (64%)] \\ tLoss: 1.300450\n",
            "Train Epoch:38 [51200/60000 (85%)] \\ tLoss: 1.179495\n",
            "\n",
            "Test set: Average loss: 1.4496, Accuracy:5049/10000 (50%) \n",
            "\n",
            "Train Epoch:39 [0/60000 (0%)] \\ tLoss: 1.669001\n",
            "Train Epoch:39 [12800/60000 (21%)] \\ tLoss: 1.444858\n",
            "Train Epoch:39 [25600/60000 (43%)] \\ tLoss: 1.378146\n",
            "Train Epoch:39 [38400/60000 (64%)] \\ tLoss: 1.325708\n",
            "Train Epoch:39 [51200/60000 (85%)] \\ tLoss: 1.406578\n",
            "\n",
            "Test set: Average loss: 1.4417, Accuracy:5108/10000 (51%) \n",
            "\n",
            "Train Epoch:40 [0/60000 (0%)] \\ tLoss: 1.543129\n",
            "Train Epoch:40 [12800/60000 (21%)] \\ tLoss: 1.340357\n",
            "Train Epoch:40 [25600/60000 (43%)] \\ tLoss: 1.271803\n",
            "Train Epoch:40 [38400/60000 (64%)] \\ tLoss: 1.338144\n",
            "Train Epoch:40 [51200/60000 (85%)] \\ tLoss: 1.343143\n",
            "\n",
            "Test set: Average loss: 1.4346, Accuracy:5138/10000 (51%) \n",
            "\n",
            "Train Epoch:41 [0/60000 (0%)] \\ tLoss: 1.224353\n",
            "Train Epoch:41 [12800/60000 (21%)] \\ tLoss: 1.473533\n",
            "Train Epoch:41 [25600/60000 (43%)] \\ tLoss: 1.438132\n",
            "Train Epoch:41 [38400/60000 (64%)] \\ tLoss: 1.231310\n",
            "Train Epoch:41 [51200/60000 (85%)] \\ tLoss: 1.234326\n",
            "\n",
            "Test set: Average loss: 1.4283, Accuracy:5168/10000 (52%) \n",
            "\n",
            "Train Epoch:42 [0/60000 (0%)] \\ tLoss: 1.511500\n",
            "Train Epoch:42 [12800/60000 (21%)] \\ tLoss: 1.323812\n",
            "Train Epoch:42 [25600/60000 (43%)] \\ tLoss: 1.592227\n",
            "Train Epoch:42 [38400/60000 (64%)] \\ tLoss: 1.468711\n",
            "Train Epoch:42 [51200/60000 (85%)] \\ tLoss: 1.112439\n",
            "\n",
            "Test set: Average loss: 1.4225, Accuracy:5203/10000 (52%) \n",
            "\n",
            "Train Epoch:43 [0/60000 (0%)] \\ tLoss: 1.317183\n",
            "Train Epoch:43 [12800/60000 (21%)] \\ tLoss: 1.317450\n",
            "Train Epoch:43 [25600/60000 (43%)] \\ tLoss: 1.428770\n",
            "Train Epoch:43 [38400/60000 (64%)] \\ tLoss: 1.540842\n",
            "Train Epoch:43 [51200/60000 (85%)] \\ tLoss: 1.098421\n",
            "\n",
            "Test set: Average loss: 1.4168, Accuracy:5255/10000 (53%) \n",
            "\n",
            "Train Epoch:44 [0/60000 (0%)] \\ tLoss: 1.583738\n",
            "Train Epoch:44 [12800/60000 (21%)] \\ tLoss: 1.464468\n",
            "Train Epoch:44 [25600/60000 (43%)] \\ tLoss: 1.589823\n",
            "Train Epoch:44 [38400/60000 (64%)] \\ tLoss: 1.464862\n",
            "Train Epoch:44 [51200/60000 (85%)] \\ tLoss: 1.372709\n",
            "\n",
            "Test set: Average loss: 1.4115, Accuracy:5279/10000 (53%) \n",
            "\n",
            "Train Epoch:45 [0/60000 (0%)] \\ tLoss: 1.383291\n",
            "Train Epoch:45 [12800/60000 (21%)] \\ tLoss: 1.540763\n",
            "Train Epoch:45 [25600/60000 (43%)] \\ tLoss: 1.500473\n",
            "Train Epoch:45 [38400/60000 (64%)] \\ tLoss: 1.413721\n",
            "Train Epoch:45 [51200/60000 (85%)] \\ tLoss: 1.182055\n",
            "\n",
            "Test set: Average loss: 1.4070, Accuracy:5302/10000 (53%) \n",
            "\n",
            "Train Epoch:46 [0/60000 (0%)] \\ tLoss: 1.405367\n",
            "Train Epoch:46 [12800/60000 (21%)] \\ tLoss: 1.265579\n",
            "Train Epoch:46 [25600/60000 (43%)] \\ tLoss: 1.731825\n",
            "Train Epoch:46 [38400/60000 (64%)] \\ tLoss: 1.377029\n",
            "Train Epoch:46 [51200/60000 (85%)] \\ tLoss: 1.513067\n",
            "\n",
            "Test set: Average loss: 1.4023, Accuracy:5315/10000 (53%) \n",
            "\n",
            "Train Epoch:47 [0/60000 (0%)] \\ tLoss: 1.416862\n",
            "Train Epoch:47 [12800/60000 (21%)] \\ tLoss: 1.486699\n",
            "Train Epoch:47 [25600/60000 (43%)] \\ tLoss: 1.453962\n",
            "Train Epoch:47 [38400/60000 (64%)] \\ tLoss: 1.418266\n",
            "Train Epoch:47 [51200/60000 (85%)] \\ tLoss: 1.335055\n",
            "\n",
            "Test set: Average loss: 1.3984, Accuracy:5325/10000 (53%) \n",
            "\n",
            "Train Epoch:48 [0/60000 (0%)] \\ tLoss: 1.678386\n",
            "Train Epoch:48 [12800/60000 (21%)] \\ tLoss: 1.461893\n",
            "Train Epoch:48 [25600/60000 (43%)] \\ tLoss: 1.574026\n",
            "Train Epoch:48 [38400/60000 (64%)] \\ tLoss: 1.423572\n",
            "Train Epoch:48 [51200/60000 (85%)] \\ tLoss: 1.211582\n",
            "\n",
            "Test set: Average loss: 1.3942, Accuracy:5354/10000 (54%) \n",
            "\n",
            "Train Epoch:49 [0/60000 (0%)] \\ tLoss: 1.478006\n",
            "Train Epoch:49 [12800/60000 (21%)] \\ tLoss: 1.469429\n",
            "Train Epoch:49 [25600/60000 (43%)] \\ tLoss: 1.438620\n",
            "Train Epoch:49 [38400/60000 (64%)] \\ tLoss: 1.253991\n",
            "Train Epoch:49 [51200/60000 (85%)] \\ tLoss: 1.499152\n",
            "\n",
            "Test set: Average loss: 1.3905, Accuracy:5360/10000 (54%) \n",
            "\n"
          ]
        }
      ]
    },
    {
      "cell_type": "code",
      "source": [
        "## Test 데이터셋에서 배치크기만큼 이미지 추출\n",
        "images, labels = next(iter(test_loader))\n",
        "\n",
        "## 학습된 MLP 모델을 통해 예측값 출력\n",
        "output  = model(images)\n",
        "## 10개의 성분을 가지는 예측값 벡터에서 최대의 확률을 가지는 인덱스를 예측값으로 변환\n",
        "_, preds = torch.max(output,1)\n",
        "## 이미지 plot을 위해 텐서에서 numpy 자료구조로 변환\n",
        "images = images.numpy()\n",
        "## 이미지 plot: 레이블과 예측값이 다르면 적색으로 표시 ()안이 레이블\n",
        "fig = plt.figure(figsize=(16,16))\n",
        "for idx in np.arange(36):\n",
        "    ax = fig.add_subplot(6,6,idx+1,xticks=[],yticks=[])\n",
        "    ax.imshow(np.squeeze(images[idx]),cmap='gray')\n",
        "    ax.set_title(\"{}({})\".format(str(preds[idx].item()),str(labels[idx].item())),\n",
        "                 color = (\"green\" if preds[idx]==labels[idx] else \"red\"))"
      ],
      "metadata": {
        "colab": {
          "base_uri": "https://localhost:8080/",
          "height": 1000
        },
        "id": "BfvJbft5C0If",
        "outputId": "30292341-44c1-4e95-efed-d19927501ec1"
      },
      "execution_count": 44,
      "outputs": [
        {
          "output_type": "display_data",
          "data": {
            "text/plain": [
              "<Figure size 1600x1600 with 36 Axes>"
            ],
            "image/png": "[encoded data removed]"
          },
          "metadata": {}
        }
      ]
    },
    {
      "cell_type": "code",
      "source": [],
      "metadata": {
        "id": "BFrrYpfaJOXm"
      },
      "execution_count": 44,
      "outputs": []
    }
  ]
}